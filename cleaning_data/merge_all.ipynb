{
 "cells": [
  {
   "cell_type": "markdown",
   "id": "5a61fa90-7412-4ef0-b8cd-3e4408f252d3",
   "metadata": {},
   "source": [
    "# Joindre la base de API et des awards \n",
    "\n",
    "Dans cette partie, assez courte, nous souhaitons joindre les deux bases que nous avons netoyées dans les étapes précedentes en une seule base finale pour avoir les noms des récompénses et leur type dans la base de données finale "
   ]
  },
  {
   "cell_type": "code",
   "execution_count": 1,
   "id": "2ac1f269-0682-49cc-bdb1-51285b569347",
   "metadata": {},
   "outputs": [],
   "source": [
    "#les imports de librairies nécessaires\n",
    "import pandas as pd\n",
    "import numpy as np \n",
    "import os"
   ]
  },
  {
   "cell_type": "code",
   "execution_count": 2,
   "id": "cea701ae-daa0-425c-8a55-c74e5297650f",
   "metadata": {},
   "outputs": [],
   "source": [
    "base_API = pd.read_csv('../cleaning_data/Movies.csv') \n",
    "base_awards = pd.read_csv('../cleaning_data/awards.csv')"
   ]
  },
  {
   "cell_type": "code",
   "execution_count": 3,
   "id": "77ee5aad-4f58-43be-a8e1-187fa57c918f",
   "metadata": {},
   "outputs": [
    {
     "name": "stdout",
     "output_type": "stream",
     "text": [
      "Index(['adult', 'budget', 'id', 'imdb_id', 'original_language',\n",
      "       'original_title', 'overview', 'popularity', 'release_date', 'revenue',\n",
      "       'runtime', 'tagline', 'title', 'vote_average', 'vote_count',\n",
      "       'directors', 'collection_name', 'genres_list', 'countries_prod',\n",
      "       'languages_list', 'prod_companies'],\n",
      "      dtype='object')\n",
      "Index(['English_title', 'Year', 'Dir_or_prod', 'Studio', 'Award_mains',\n",
      "       'Mains_cat', 'Award_fest', 'Fest_cat', 'Production_country'],\n",
      "      dtype='object')\n"
     ]
    }
   ],
   "source": [
    "print(base_API.columns)\n",
    "print(base_awards.columns)\n",
    "\n",
    "#Vérifications que l'importation s'est bien passée"
   ]
  },
  {
   "cell_type": "code",
   "execution_count": 6,
   "id": "e8d38d02-f22f-4371-a52c-4c8171f72d56",
   "metadata": {},
   "outputs": [],
   "source": [
    "#Faisons la jointure entre les deux dataframes\n",
    "base_API_m = base_API\n",
    "base_award_m = base_awards\n",
    "\n",
    "#Uniformisation de la date de sortie \n",
    "base_API_m['An'] = pd.to_datetime(base_API_m['release_date']).dt.year\n",
    "base_award_m['An'] = pd.to_datetime(base_award_m['Year']).dt.year\n",
    "\n",
    "base_API_m['An'] = base_API_m['An'].fillna(-9999)  # Remplacez -1 par la valeur de remplacement souhaitée\n",
    "base_award_m['An'] = base_award_m['An'].fillna(-9999)\n",
    "\n",
    "base_API_m['An'] = base_API_m['An'].astype(int)\n",
    "base_award_m['An'] = base_award_m['An'].astype(int)\n",
    "\n",
    "merged_df = pd.merge(base_API_m, \n",
    "                     base_award_m,\n",
    "                     left_on=['title','An'],right_on=['English_title','An'],how='left')\n",
    "merged_df = merged_df.drop(columns = ['English_title', 'Studio', 'Dir_or_prod', 'An', 'Year', 'Production_country'])"
   ]
  },
  {
   "cell_type": "code",
   "execution_count": 10,
   "id": "024f4636-757b-4ef2-bbf6-4f99db0ae12b",
   "metadata": {},
   "outputs": [],
   "source": [
    "merged_final = merged_df.drop_duplicates()"
   ]
  },
  {
   "cell_type": "code",
   "execution_count": 14,
   "id": "b2447b1e-5d62-40cf-8859-743da93d745d",
   "metadata": {},
   "outputs": [
    {
     "data": {
      "text/plain": [
       "60"
      ]
     },
     "execution_count": 14,
     "metadata": {},
     "output_type": "execute_result"
    }
   ],
   "source": [
    "nombre_de_valeurs_non_nan = merged_final['Fest_cat'].count()\n",
    "nombre_de_valeurs_non_nan \n",
    "\n",
    "#pour savoir combien de films sont restés dans la base. "
   ]
  },
  {
   "cell_type": "code",
   "execution_count": 15,
   "id": "bc3c7b83-feef-4d18-b1c8-4a8685870cdc",
   "metadata": {},
   "outputs": [],
   "source": [
    "#Exportation en csv :\n",
    "\n",
    "current_directory = os.getcwd()\n",
    "\n",
    "# Ajouter le nom du fichier \n",
    "file_name = 'Final_database.csv'\n",
    "file_path = os.path.join(current_directory, file_name)\n",
    "\n",
    "merged_df.to_csv(file_path, index = False)\n"
   ]
  },
  {
   "cell_type": "code",
   "execution_count": null,
   "id": "e7269f3c-b727-48b9-b3e4-64a1565299c4",
   "metadata": {},
   "outputs": [],
   "source": []
  }
 ],
 "metadata": {
  "kernelspec": {
   "display_name": "Python 3 (ipykernel)",
   "language": "python",
   "name": "python3"
  },
  "language_info": {
   "codemirror_mode": {
    "name": "ipython",
    "version": 3
   },
   "file_extension": ".py",
   "mimetype": "text/x-python",
   "name": "python",
   "nbconvert_exporter": "python",
   "pygments_lexer": "ipython3",
   "version": "3.10.13"
  }
 },
 "nbformat": 4,
 "nbformat_minor": 5
}
