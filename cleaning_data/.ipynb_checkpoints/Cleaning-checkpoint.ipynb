{
 "cells": [
  {
   "cell_type": "code",
   "execution_count": 1,
   "id": "cdbea70e-9dd7-469b-91ba-bafa5d5ecccb",
   "metadata": {},
   "outputs": [],
   "source": [
    "import pandas as pd"
   ]
  },
  {
   "cell_type": "code",
   "execution_count": 3,
   "id": "7fe18720-59ff-49ec-8178-fcd2a3bf8e65",
   "metadata": {},
   "outputs": [
    {
     "name": "stdout",
     "output_type": "stream",
     "text": [
      "Index(['Unnamed: 0', 'adult', 'backdrop_path', 'belongs_to_collection',\n",
      "       'budget', 'genres', 'homepage', 'id', 'imdb_id', 'original_language',\n",
      "       'original_title', 'overview', 'popularity', 'poster_path',\n",
      "       'production_companies', 'production_countries', 'release_date',\n",
      "       'revenue', 'runtime', 'spoken_languages', 'status', 'tagline', 'title',\n",
      "       'video', 'vote_average', 'vote_count'],\n",
      "      dtype='object')\n"
     ]
    }
   ],
   "source": [
    "base = pd.read_csv('../API/MoviesPopular.csv')\n",
    "print(base.columns)"
   ]
  },
  {
   "cell_type": "code",
   "execution_count": 9,
   "id": "aeb70d47-60bf-4fa4-a949-dc835a944bca",
   "metadata": {},
   "outputs": [],
   "source": [
    "base = base.drop(['Unnamed: 0','backdrop_path','homepage'], axis=1)"
   ]
  },
  {
   "cell_type": "code",
   "execution_count": 10,
   "id": "6cd6023c-aae8-42aa-8ac6-95d61764cb3c",
   "metadata": {},
   "outputs": [],
   "source": [
    "#Chargement des bases scrappées sur wikipédia pour nettoyage et fusion avec la base de données récupérée sur TMDB\n",
    "\n",
    "#Academy award for best cinematography \n",
    "ac_bc = pd.read_csv('../wiki_scrap/academy_bc.csv')\n",
    "# academy award for best film \n",
    "ac_bf = pd.read_csv('../wiki_scrap/academy_bf.csv')\n",
    "#Academy award for best director \n",
    "ac_bd = pd.read_csv('../wiki_scrap/academy_bd.csv')\n",
    "#Cannes Grand Prix\n",
    "can_gp = pd.read_csv('../wiki_scrap/cannes_gp.csv')\n",
    "#Cannes Jury prize\n",
    "can_jr = pd.read_csv('../wiki_scrap/cannes_jury.csv')\n",
    "#Cannes Palme d'or\n",
    "can_po = pd.read_csv('../wiki_scrap/palme_or.csv')\n",
    "#César Best director \n",
    "ces_bd = pd.read_csv('../wiki_scrap/cesar_bd.csv')\n",
    "#Cesar Best Film \n",
    "ces_bf = pd.read_csv('../wiki_scrap/cesar_bf.csv')\n",
    "#Venice Lion d'or\n",
    "ven_lor = pd.read_csv('../wiki_scrap/lion_or.csv')\n",
    "#Venice Lion d'argent \n",
    "ven_larg = pd.read_csv('../wiki_scrap/lion_argent.csv')\n",
    "#Venice Grand Jury Prix\n",
    "ven_gj = pd.read_csv('../wiki_scrap/venice_gj.csv')\n"
   ]
  },
  {
   "cell_type": "code",
   "execution_count": 11,
   "id": "5f42ef1a-ff86-4ceb-af68-d4d0318deac8",
   "metadata": {},
   "outputs": [
    {
     "name": "stdout",
     "output_type": "stream",
     "text": [
      "Index(['Category', 'Name', 'Superlative', 'Year', 'Notes', 'Film', 'Nominees',\n",
      "       'Awards', 'Nominations', 'Recipient'],\n",
      "      dtype='object')\n",
      "Index(['0', 'Year', 'Director(s)', 'Film', 'Ref.', 'Wins', 'Director',\n",
      "       'Nominations', 'Record', 'Age'],\n",
      "      dtype='object')\n",
      "Index(['Year of Film Release', 'Film', 'Film Studio',\n",
      "       'Film Studio/Producer(s)', 'Producer(s)', 'Production Company',\n",
      "       'Nominations', 'Wins'],\n",
      "      dtype='object')\n",
      "Index(['('Year', '1960s', 'Awarded as \"Grand Prix Spécial du Jury\"')',\n",
      "       '('English Title', '1960s', 'Awarded as \"Grand Prix Spécial du Jury\"')',\n",
      "       '('Original Title', '1960s', 'Awarded as \"Grand Prix Spécial du Jury\"')',\n",
      "       '('Director(s)', '1960s', 'Awarded as \"Grand Prix Spécial du Jury\"')',\n",
      "       '('Production Country', '1960s', 'Awarded as \"Grand Prix Spécial du Jury\"')',\n",
      "       'Number of Wins', 'Directors', 'Nationality', 'Films', 'Ref(s)'],\n",
      "      dtype='object')\n",
      "Index(['('Year', '1940s', 'Awarded as \"International Jury Prize\"')',\n",
      "       '('English Title', '1940s', 'Awarded as \"International Jury Prize\"')',\n",
      "       '('Original Title', '1940s', 'Awarded as \"International Jury Prize\"')',\n",
      "       '('Recipient', '1940s', 'Awarded as \"International Jury Prize\"')',\n",
      "       '('Production Country', '1940s', 'Awarded as \"International Jury Prize\"')',\n",
      "       'Number of Wins', 'Directors', 'Nationality', 'Films'],\n",
      "      dtype='object')\n",
      "Index(['Year', 'English Title', 'Original title', 'Director(s)',\n",
      "       'Production Country', 'Ref.', 'Original Title', 'Director', 'Ref(s)',\n",
      "       'Recipient', 'Profession', 'Nationality of Recipient'],\n",
      "      dtype='object')\n",
      "Index(['Superlative', 'Men', 'Men.1', 'Women', 'Women.1', 'Year',\n",
      "       'Winner and nominees', 'English title', 'Original title',\n",
      "       'Winners and nominees', 'Wins', 'Director', 'Nominations'],\n",
      "      dtype='object')\n",
      "Index(['Year', 'English title', 'Original title', 'Director'], dtype='object')\n",
      "Index(['('Year', '1940s')', '('English Title', '1940s')',\n",
      "       '('Original Title', '1940s')', '('Director(s)', '1940s')',\n",
      "       '('Production Country', '1940s')', 'Year', 'Winner(s)'],\n",
      "      dtype='object')\n",
      "Index(['('Year', '1990s')', '('Director(s)', '1990s')',\n",
      "       '('English Title', '1990s')', '('Original Title', '1990s')',\n",
      "       'Number of Wins', 'Director', 'Nationality', 'Films', 'Year',\n",
      "       'English Title', 'Original Title', 'Director(s)', 'Production Country',\n",
      "       'Screenwriter'],\n",
      "      dtype='object')\n",
      "Index(['('Year', '1950s', 'Awarded as \"Special Jury Prize\"')',\n",
      "       '('English Title', '1950s', 'Awarded as \"Special Jury Prize\"')',\n",
      "       '('Original Title', '1950s', 'Awarded as \"Special Jury Prize\"')',\n",
      "       '('Director(s)', '1950s', 'Awarded as \"Special Jury Prize\"')',\n",
      "       '('Production Country', '1950s', 'Awarded as \"Special Jury Prize\"')',\n",
      "       'Number of Wins', 'Directors', 'Nationality'],\n",
      "      dtype='object')\n"
     ]
    }
   ],
   "source": [
    "#Pour vérifier si le chargement est bien réussi \n",
    "\n",
    "print(ac_bc.columns)\n",
    "print(ac_bd.columns) \n",
    "print(ac_bf.columns) \n",
    "print(can_gp.columns)\n",
    "print(can_jr.columns) \n",
    "print(can_po.columns)\n",
    "print(ces_bd.columns) \n",
    "print(ces_bf.columns) \n",
    "print(ven_lor.columns) \n",
    "print(ven_larg.columns) \n",
    "print(ven_gj.columns)"
   ]
  },
  {
   "cell_type": "code",
   "execution_count": null,
   "id": "c66e45e4-741f-4e5e-b65a-93b3858db3c0",
   "metadata": {},
   "outputs": [],
   "source": [
    "#Nettoyage et mise en conformité de la base de données Academy \n",
    "\n"
   ]
  },
  {
   "cell_type": "code",
   "execution_count": null,
   "id": "81321fb5-63dc-4155-a3ab-f442f0d13262",
   "metadata": {},
   "outputs": [],
   "source": []
  }
 ],
 "metadata": {
  "kernelspec": {
   "display_name": "Python 3 (ipykernel)",
   "language": "python",
   "name": "python3"
  },
  "language_info": {
   "codemirror_mode": {
    "name": "ipython",
    "version": 3
   },
   "file_extension": ".py",
   "mimetype": "text/x-python",
   "name": "python",
   "nbconvert_exporter": "python",
   "pygments_lexer": "ipython3",
   "version": "3.10.13"
  }
 },
 "nbformat": 4,
 "nbformat_minor": 5
}
