{
 "cells": [
  {
   "cell_type": "markdown",
   "id": "0a65525b-5b70-4f12-9286-aa57ba785ade",
   "metadata": {},
   "source": [
    "merging the awards.csv and the MoviesClean.csv base using the english_title variable"
   ]
  },
  {
   "cell_type": "code",
   "execution_count": null,
   "id": "3c7e273d-e602-4395-95c4-bd4e371ab70d",
   "metadata": {},
   "outputs": [],
   "source": []
  }
 ],
 "metadata": {
  "kernelspec": {
   "display_name": "Python 3 (ipykernel)",
   "language": "python",
   "name": "python3"
  },
  "language_info": {
   "codemirror_mode": {
    "name": "ipython",
    "version": 3
   },
   "file_extension": ".py",
   "mimetype": "text/x-python",
   "name": "python",
   "nbconvert_exporter": "python",
   "pygments_lexer": "ipython3",
   "version": "3.10.13"
  }
 },
 "nbformat": 4,
 "nbformat_minor": 5
}
