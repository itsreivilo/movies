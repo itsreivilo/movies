{
 "cells": [
  {
   "cell_type": "markdown",
   "id": "5a61fa90-7412-4ef0-b8cd-3e4408f252d3",
   "metadata": {},
   "source": [
    "# Joindre la base de API et des awards \n",
    "\n",
    "Dans cette partie, assez courte, nous souhaitons joindre les deux bases que nous avons netoyyées dans les étapes précedentes en une seule base finale pour avoir les noms des récompénses et leur type dans la base de données finale "
   ]
  },
  {
   "cell_type": "code",
   "execution_count": null,
   "id": "2ac1f269-0682-49cc-bdb1-51285b569347",
   "metadata": {},
   "outputs": [],
   "source": [
    "#les imports\n",
    "import pandas as pd"
   ]
  },
  {
   "cell_type": "code",
   "execution_count": null,
   "id": "cea701ae-daa0-425c-8a55-c74e5297650f",
   "metadata": {},
   "outputs": [],
   "source": [
    "base_API = pd.read_csv('../cleaning_api_data/') \n",
    "base_awards = pd.read_csv('../cleaning_data')"
   ]
  }
 ],
 "metadata": {
  "kernelspec": {
   "display_name": "Python 3 (ipykernel)",
   "language": "python",
   "name": "python3"
  },
  "language_info": {
   "codemirror_mode": {
    "name": "ipython",
    "version": 3
   },
   "file_extension": ".py",
   "mimetype": "text/x-python",
   "name": "python",
   "nbconvert_exporter": "python",
   "pygments_lexer": "ipython3",
   "version": "3.10.13"
  }
 },
 "nbformat": 4,
 "nbformat_minor": 5
}
