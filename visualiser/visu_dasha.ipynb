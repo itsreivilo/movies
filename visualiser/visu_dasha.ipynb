{
 "cells": [
  {
   "cell_type": "markdown",
   "id": "c012b8c4-2e9d-49cd-aff0-9561335837de",
   "metadata": {},
   "source": [
    "# Visualisation des données \n",
    "Dans cette partie nous allons procéder à la visualisation des données obtenues à la fois à base du scrapping et de l'API de tmdb. Parmi les graphiques que nous souhaitons réaliser : \n",
    "\n",
    "-  Les nuages de mots répresentant les genres les plus populaires:\n",
    "    *  dans toute la base TMDB\n",
    "    *  Parmi les films nominés aux Oscars/Césars (Award_mains = 1)\n",
    "    *  Parmi les films nominés aux festivals (Award_fest = 1)\n",
    " \n",
    "- Les budgets de films par genre\n",
    "- Les moyennes de budget par film pour les différentes compétitions - César, Oscar, Cannes et Venise\n",
    "- L'évolution temporelle de budgets de films\n",
    "- L'évolution temporelle des notes distribuées par les utilisatuers (trouve-t-on des films plus récents meilleurs?)\n",
    "- Les notes données par les utilisateurs:\n",
    "    * par catégorie de compétition\n",
    "    * par décennie\n",
    "    * par genre de film \n",
    "\n"
   ]
  },
  {
   "cell_type": "code",
   "execution_count": null,
   "id": "87aa82c1-efd9-4856-9431-125a939d8f97",
   "metadata": {},
   "outputs": [],
   "source": []
  }
 ],
 "metadata": {
  "kernelspec": {
   "display_name": "Python 3 (ipykernel)",
   "language": "python",
   "name": "python3"
  },
  "language_info": {
   "codemirror_mode": {
    "name": "ipython",
    "version": 3
   },
   "file_extension": ".py",
   "mimetype": "text/x-python",
   "name": "python",
   "nbconvert_exporter": "python",
   "pygments_lexer": "ipython3",
   "version": "3.10.13"
  }
 },
 "nbformat": 4,
 "nbformat_minor": 5
}
