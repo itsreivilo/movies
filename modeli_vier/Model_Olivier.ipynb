{
 "cells": [
  {
   "cell_type": "markdown",
   "id": "39b13f73-bd35-4c44-85f4-30713483e437",
   "metadata": {},
   "source": [
    "# **Modélisation 2**\n",
    "\n",
    "À partir de l'article Medium référencé dans le README, nous allons essayer de créer un algorithme de recommendation à partir de notre base. Au vu du contenu de notre base, nous n'allons pas vraimet pouvoir implementer une partie en fonction de ce que les utilisateurs ayant aimé un film auraient aussi aimé, et plus nous concentrer sur les caractéristiques des films."
   ]
  },
  {
   "cell_type": "code",
   "execution_count": 34,
   "id": "0a2b9bb7-dafb-4a2f-af0c-373b93b4a53b",
   "metadata": {},
   "outputs": [],
   "source": [
    "import pandas as pd\n",
    "import ast\n",
    "from sklearn.feature_extraction.text import TfidfVectorizer\n",
    "from sklearn.metrics.pairwise import linear_kernel"
   ]
  },
  {
   "cell_type": "code",
   "execution_count": 14,
   "id": "159edc59-0354-4da8-a024-b21a85cd3f1e",
   "metadata": {},
   "outputs": [],
   "source": [
    "def safe_literal_eval(x):\n",
    "    try:\n",
    "        return ast.literal_eval(x)\n",
    "    except (SyntaxError, ValueError):\n",
    "        return []\n",
    "\n",
    "def fonction_charge(path) :\n",
    "    df = pd.read_csv(path)\n",
    "    df_f = df.drop_duplicates()\n",
    "    df_f['release_date'] = pd.to_datetime(df_f['release_date'])\n",
    "    # De la même façon on convertit la colonne 'budget' qui est composée de chaînes de caractères et non de valeurs numériques\n",
    "    df_f['budget'] = pd.to_numeric(df_f['budget'], errors='coerce')\n",
    "    df_f['genres_list'] = df_f['genres_list'].apply(ast.literal_eval)\n",
    "    df_f['countries_prod'] = df_f['countries_prod'].apply(ast.literal_eval)\n",
    "    df_f['languages_list'] = df_f['languages_list'].apply(ast.literal_eval)\n",
    "    df_f['prod_companies'] = df_f['prod_companies'].apply(ast.literal_eval)\n",
    "    df_f['directors'] = df_f['directors'].apply(safe_literal_eval)\n",
    "    return df_f "
   ]
  },
  {
   "cell_type": "code",
   "execution_count": 20,
   "id": "4ede3491-005d-4c28-8b1c-114e21481794",
   "metadata": {},
   "outputs": [
    {
     "name": "stderr",
     "output_type": "stream",
     "text": [
      "/tmp/ipykernel_58073/1525667594.py:10: SettingWithCopyWarning: \n",
      "A value is trying to be set on a copy of a slice from a DataFrame.\n",
      "Try using .loc[row_indexer,col_indexer] = value instead\n",
      "\n",
      "See the caveats in the documentation: https://pandas.pydata.org/pandas-docs/stable/user_guide/indexing.html#returning-a-view-versus-a-copy\n",
      "  df_f['release_date'] = pd.to_datetime(df_f['release_date'])\n",
      "/tmp/ipykernel_58073/1525667594.py:12: SettingWithCopyWarning: \n",
      "A value is trying to be set on a copy of a slice from a DataFrame.\n",
      "Try using .loc[row_indexer,col_indexer] = value instead\n",
      "\n",
      "See the caveats in the documentation: https://pandas.pydata.org/pandas-docs/stable/user_guide/indexing.html#returning-a-view-versus-a-copy\n",
      "  df_f['budget'] = pd.to_numeric(df_f['budget'], errors='coerce')\n",
      "/tmp/ipykernel_58073/1525667594.py:13: SettingWithCopyWarning: \n",
      "A value is trying to be set on a copy of a slice from a DataFrame.\n",
      "Try using .loc[row_indexer,col_indexer] = value instead\n",
      "\n",
      "See the caveats in the documentation: https://pandas.pydata.org/pandas-docs/stable/user_guide/indexing.html#returning-a-view-versus-a-copy\n",
      "  df_f['genres_list'] = df_f['genres_list'].apply(ast.literal_eval)\n",
      "/tmp/ipykernel_58073/1525667594.py:14: SettingWithCopyWarning: \n",
      "A value is trying to be set on a copy of a slice from a DataFrame.\n",
      "Try using .loc[row_indexer,col_indexer] = value instead\n",
      "\n",
      "See the caveats in the documentation: https://pandas.pydata.org/pandas-docs/stable/user_guide/indexing.html#returning-a-view-versus-a-copy\n",
      "  df_f['countries_prod'] = df_f['countries_prod'].apply(ast.literal_eval)\n",
      "/tmp/ipykernel_58073/1525667594.py:15: SettingWithCopyWarning: \n",
      "A value is trying to be set on a copy of a slice from a DataFrame.\n",
      "Try using .loc[row_indexer,col_indexer] = value instead\n",
      "\n",
      "See the caveats in the documentation: https://pandas.pydata.org/pandas-docs/stable/user_guide/indexing.html#returning-a-view-versus-a-copy\n",
      "  df_f['languages_list'] = df_f['languages_list'].apply(ast.literal_eval)\n",
      "/tmp/ipykernel_58073/1525667594.py:16: SettingWithCopyWarning: \n",
      "A value is trying to be set on a copy of a slice from a DataFrame.\n",
      "Try using .loc[row_indexer,col_indexer] = value instead\n",
      "\n",
      "See the caveats in the documentation: https://pandas.pydata.org/pandas-docs/stable/user_guide/indexing.html#returning-a-view-versus-a-copy\n",
      "  df_f['prod_companies'] = df_f['prod_companies'].apply(ast.literal_eval)\n",
      "/tmp/ipykernel_58073/1525667594.py:17: SettingWithCopyWarning: \n",
      "A value is trying to be set on a copy of a slice from a DataFrame.\n",
      "Try using .loc[row_indexer,col_indexer] = value instead\n",
      "\n",
      "See the caveats in the documentation: https://pandas.pydata.org/pandas-docs/stable/user_guide/indexing.html#returning-a-view-versus-a-copy\n",
      "  df_f['directors'] = df_f['directors'].apply(safe_literal_eval)\n"
     ]
    }
   ],
   "source": [
    "df = fonction_charge('../cleaning_data/Final_database.csv')"
   ]
  },
  {
   "cell_type": "code",
   "execution_count": 29,
   "id": "8999b866-0c7d-4f11-aafb-36c578124285",
   "metadata": {},
   "outputs": [
    {
     "data": {
      "text/plain": [
       "0        An ex-special forces operative takes a job to ...\n",
       "1        When oil is discovered in 1920s Oklahoma under...\n",
       "2        When Branch's brother, Floyd, is kidnapped for...\n",
       "3        Jaded 74-year-old lizard Leo has been stuck in...\n",
       "4        Willy Wonka – chock-full of ideas and determin...\n",
       "                               ...                        \n",
       "12012    Ten years ago, over forty people were brutally...\n",
       "12013    An ex-soldier, a teen and a cop collide in New...\n",
       "12014    In London, after investigating crack addicted ...\n",
       "12015    Animated character Fat Albert emerges from his...\n",
       "12016    A junkie must face his true self to kick his d...\n",
       "Name: combined_info, Length: 9180, dtype: object"
      ]
     },
     "execution_count": 29,
     "metadata": {},
     "output_type": "execute_result"
    }
   ],
   "source": [
    "movies_df = df\n",
    "movies_df['genres_ex'] = movies_df['genres_list'].apply(lambda x: ', '.join(map(str, x)))\n",
    "movies_df['direct_ex'] = movies_df['directors'].apply(lambda x: ', '.join(map(str, x)))\n",
    "movies_df\n",
    "# Create a new column with combined information\n",
    "movies_df['combined_info'] = (\n",
    "    movies_df['overview'] + ' ' + movies_df['genres_ex'] + ' ' +  movies_df['direct_ex'] + ' ' +  movies_df['collection_name'].fillna('')\n",
    ")\n",
    "movies_df['combined_info']\n"
   ]
  },
  {
   "cell_type": "code",
   "execution_count": 33,
   "id": "212e46ea-2b40-41fb-9449-0fd1d015a16a",
   "metadata": {},
   "outputs": [],
   "source": [
    "movies_df['combined_info'].fillna('', inplace=True)\n",
    "\n",
    "# Initialize the Object and remove stopwords\n",
    "tfidf = TfidfVectorizer(stop_words='english')\n",
    "tfidf_matrix = tfidf.fit_transform(movies_df['combined_info'])\n"
   ]
  },
  {
   "cell_type": "code",
   "execution_count": 35,
   "id": "6e1ff127-14b0-422a-9cd4-df5ea33a2521",
   "metadata": {},
   "outputs": [],
   "source": [
    "# compute the similarity matirx\n",
    "cos_mat = linear_kernel(tfidf_matrix, tfidf_matrix)"
   ]
  },
  {
   "cell_type": "code",
   "execution_count": 36,
   "id": "5e1a5691-2f27-4d2c-9ad0-08eb37ea6514",
   "metadata": {},
   "outputs": [
    {
     "name": "stdout",
     "output_type": "stream",
     "text": [
      "9158.0\n"
     ]
    }
   ],
   "source": [
    "diag = 0\n",
    "for i in range(len(cos_mat)):\n",
    "    diag+= cos_mat[i][i]\n",
    "    \n",
    "print(diag)"
   ]
  },
  {
   "cell_type": "code",
   "execution_count": 37,
   "id": "c10a03ac-c820-4a24-8023-7de6568bdf65",
   "metadata": {},
   "outputs": [],
   "source": [
    "def get_recommendations(movie, n):\n",
    "    \n",
    "    # get index from dataframe\n",
    "    index = movies_df[movies_df['title']== movie].index[0]\n",
    "    \n",
    "    # sort top n similar movies     \n",
    "    similar_movies = sorted(list(enumerate(cos_mat[index])), reverse=True, key=lambda x: x[1]) \n",
    "    \n",
    "    # extract names from dataframe and return movie names\n",
    "    recomm = []\n",
    "    for i in similar_movies[1:n+1]:\n",
    "        recomm.append(df.iloc[i[0]].title)\n",
    "        \n",
    "    return recomm\n"
   ]
  },
  {
   "cell_type": "code",
   "execution_count": 45,
   "id": "25ee768b-cef6-4e38-9cfe-e03e4a38a344",
   "metadata": {},
   "outputs": [
    {
     "data": {
      "text/plain": [
       "['The Week Of',\n",
       " 'Cat Person',\n",
       " 'Notes on a Scandal',\n",
       " 'Life in a Year',\n",
       " 'Home Alone 2: Lost in New York']"
      ]
     },
     "execution_count": 45,
     "metadata": {},
     "output_type": "execute_result"
    }
   ],
   "source": [
    "get_recommendations(\"Leo\", 5)"
   ]
  },
  {
   "cell_type": "code",
   "execution_count": 41,
   "id": "39a38d19-dfcb-408d-8415-1e4ba5ab226b",
   "metadata": {},
   "outputs": [],
   "source": [
    "# Cosine similarity not defined !! Donc ça ne fonctionne pas !! À reprendre\n",
    "\n",
    "def get_keywords_recommendations(keywords, n):\n",
    "    \n",
    "    keywords = keywords.split()\n",
    "    keywords = \" \".join(keywords)\n",
    "    \n",
    "    # transform the string to vector representation\n",
    "    key_tfidf = tfidf.transform([keywords]) \n",
    "    \n",
    "    # compute cosine similarity    \n",
    "    result = cosine_similarity(key_tfidf, cos_mat)\n",
    "    \n",
    "    # sort top n similar movies   \n",
    "    similar_key_movies = sorted(list(enumerate(result[0])), reverse=True, key=lambda x: x[1])\n",
    "    \n",
    "    # extract names from dataframe and return movie names\n",
    "    recomm = []\n",
    "    for i in similar_key_movies[1:n+1]:\n",
    "        recomm.append(df.iloc[i[0]].title)\n",
    "        \n",
    "    return recomm"
   ]
  },
  {
   "cell_type": "code",
   "execution_count": 42,
   "id": "9d91d179-0462-45ef-aaa4-329b6a7b0724",
   "metadata": {},
   "outputs": [
    {
     "ename": "NameError",
     "evalue": "name 'cosine_similarity' is not defined",
     "output_type": "error",
     "traceback": [
      "\u001b[0;31m---------------------------------------------------------------------------\u001b[0m",
      "\u001b[0;31mNameError\u001b[0m                                 Traceback (most recent call last)",
      "Cell \u001b[0;32mIn[42], line 1\u001b[0m\n\u001b[0;32m----> 1\u001b[0m \u001b[43mget_keywords_recommendations\u001b[49m\u001b[43m(\u001b[49m\u001b[38;5;124;43m\"\u001b[39;49m\u001b[38;5;124;43mChristopher Nolan\u001b[39;49m\u001b[38;5;124;43m\"\u001b[39;49m\u001b[43m,\u001b[49m\u001b[43m \u001b[49m\u001b[38;5;241;43m4\u001b[39;49m\u001b[43m)\u001b[49m\n",
      "Cell \u001b[0;32mIn[41], line 10\u001b[0m, in \u001b[0;36mget_keywords_recommendations\u001b[0;34m(keywords, n)\u001b[0m\n\u001b[1;32m      7\u001b[0m key_tfidf \u001b[38;5;241m=\u001b[39m tfidf\u001b[38;5;241m.\u001b[39mtransform([keywords]) \n\u001b[1;32m      9\u001b[0m \u001b[38;5;66;03m# compute cosine similarity    \u001b[39;00m\n\u001b[0;32m---> 10\u001b[0m result \u001b[38;5;241m=\u001b[39m \u001b[43mcosine_similarity\u001b[49m(key_tfidf, cos_mat)\n\u001b[1;32m     12\u001b[0m \u001b[38;5;66;03m# sort top n similar movies   \u001b[39;00m\n\u001b[1;32m     13\u001b[0m similar_key_movies \u001b[38;5;241m=\u001b[39m \u001b[38;5;28msorted\u001b[39m(\u001b[38;5;28mlist\u001b[39m(\u001b[38;5;28menumerate\u001b[39m(result[\u001b[38;5;241m0\u001b[39m])), reverse\u001b[38;5;241m=\u001b[39m\u001b[38;5;28;01mTrue\u001b[39;00m, key\u001b[38;5;241m=\u001b[39m\u001b[38;5;28;01mlambda\u001b[39;00m x: x[\u001b[38;5;241m1\u001b[39m])\n",
      "\u001b[0;31mNameError\u001b[0m: name 'cosine_similarity' is not defined"
     ]
    }
   ],
   "source": [
    "get_keywords_recommendations(\"Christopher Nolan\", 4)"
   ]
  },
  {
   "cell_type": "code",
   "execution_count": null,
   "id": "80a38f8a-05e3-4a47-a370-5535937795ca",
   "metadata": {},
   "outputs": [],
   "source": []
  }
 ],
 "metadata": {
  "kernelspec": {
   "display_name": "Python 3 (ipykernel)",
   "language": "python",
   "name": "python3"
  },
  "language_info": {
   "codemirror_mode": {
    "name": "ipython",
    "version": 3
   },
   "file_extension": ".py",
   "mimetype": "text/x-python",
   "name": "python",
   "nbconvert_exporter": "python",
   "pygments_lexer": "ipython3",
   "version": "3.10.13"
  }
 },
 "nbformat": 4,
 "nbformat_minor": 5
}
