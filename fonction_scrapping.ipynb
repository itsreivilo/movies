{
 "cells": [
  {
   "cell_type": "code",
   "execution_count": 2,
   "id": "80f731e1-540b-43c0-82f0-51e42e4139f4",
   "metadata": {},
   "outputs": [],
   "source": [
    "!pip install -q lxml  "
   ]
  },
  {
   "cell_type": "code",
   "execution_count": 14,
   "id": "36cbb7aa-f60f-496b-8763-96fdf994e6d6",
   "metadata": {},
   "outputs": [],
   "source": [
    "import bs4\n",
    "import lxml\n",
    "import pandas as pd\n",
    "import urllib\n",
    "\n",
    "from urllib import request"
   ]
  },
  {
   "cell_type": "code",
   "execution_count": 2,
   "id": "d1a46c9e-72d6-4f74-a389-7ab127bc54d8",
   "metadata": {},
   "outputs": [],
   "source": [
    "#Enregistrement des URL à scrapper dans notre projet (listes des nominés et gagnants des grand prix du cinéma - oscar, césar, cannes et venise)\n",
    "url_academy_bf = 'https://en.wikipedia.org/wiki/Academy_Award_for_Best_Picture'\n",
    "url_academy_bd = 'https://en.wikipedia.org/wiki/Academy_Award_for_Best_Director'\n",
    "url_academy_bc = 'https://en.wikipedia.org/wiki/Academy_Award_for_Best_Cinematography'\n",
    "url_cesar_bf = 'https://en.wikipedia.org/wiki/C%C3%A9sar_Award_for_Best_Film'\n",
    "url_cesar_bd = 'https://en.wikipedia.org/wiki/C%C3%A9sar_Award_for_Best_Director'\n",
    "url_palme_or = 'https://en.wikipedia.org/wiki/Palme_d%27Or'\n",
    "url_cannes_jury = 'https://en.wikipedia.org/wiki/Jury_Prize_(Cannes_Film_Festival)'\n",
    "url_cannes_gp = 'https://en.wikipedia.org/wiki/Grand_Prix_(Cannes_Film_Festival)'\n",
    "url_lion_or = 'https://en.wikipedia.org/wiki/Golden_Lion'\n",
    "url_lion_argent = 'https://en.wikipedia.org/wiki/Silver_Lion'\n",
    "url_venice_gj = 'https://en.wikipedia.org/wiki/Grand_Jury_Prize_(Venice_Film_Festival)'"
   ]
  },
  {
   "cell_type": "code",
   "execution_count": 51,
   "id": "b15673f0-6a9b-4ef5-ab47-8b838bdcd102",
   "metadata": {},
   "outputs": [],
   "source": [
    "#test fonction \n",
    "\n",
    "url_req = request.urlopen(url_academy_bf).read()\n",
    "wiki_page = bs4.BeautifulSoup(url_req, \"lxml\")\n",
    "\n",
    "tables=wiki_page.findAll(\"table\", {\"class\":\"wikitable sortable\"})\n",
    "for t in tables:\n",
    "  class_name = t['class']\n",
    "\n",
    "for table in tables:\n",
    "    body = table.find('tbody')\n",
    "    rows = body.find_all('tr')\n",
    "    for i in range(0, len(rows)): \n",
    "        cols = rows[i].find_all('td')\n",
    "        list=[ele.text.strip() for ele in cols]\n",
    "        #print(list)\n",
    "    \n",
    "\n",
    "\n",
    "###lines=table.findAll(\"tr\")\n",
    "###print(lines)\n",
    "\n"
   ]
  },
  {
   "cell_type": "code",
   "execution_count": 4,
   "id": "c4d3fd86-f467-48e1-8b1b-4251b75df174",
   "metadata": {
    "scrolled": true
   },
   "outputs": [
    {
     "name": "stdout",
     "output_type": "stream",
     "text": [
      "Table 1 successfully scraped.\n",
      "Table 2 successfully scraped.\n",
      "Table 3 successfully scraped.\n",
      "Table 4 successfully scraped.\n",
      "Table 5 successfully scraped.\n",
      "Table 6 successfully scraped.\n",
      "Table 7 successfully scraped.\n",
      "Table 8 successfully scraped.\n",
      "Table 9 successfully scraped.\n",
      "Table 10 successfully scraped.\n",
      "Table 11 successfully scraped.\n",
      "Table 12 successfully scraped.\n",
      "Merged tables saved to academy_bf.csv\n"
     ]
    },
    {
     "name": "stderr",
     "output_type": "stream",
     "text": [
      "/tmp/ipykernel_11987/2242738038.py:24: FutureWarning: Passing literal html to 'read_html' is deprecated and will be removed in a future version. To read from a literal string, wrap it in a 'StringIO' object.\n",
      "  df = pd.read_html(str(table))[0]\n",
      "/tmp/ipykernel_11987/2242738038.py:24: FutureWarning: Passing literal html to 'read_html' is deprecated and will be removed in a future version. To read from a literal string, wrap it in a 'StringIO' object.\n",
      "  df = pd.read_html(str(table))[0]\n",
      "/tmp/ipykernel_11987/2242738038.py:24: FutureWarning: Passing literal html to 'read_html' is deprecated and will be removed in a future version. To read from a literal string, wrap it in a 'StringIO' object.\n",
      "  df = pd.read_html(str(table))[0]\n",
      "/tmp/ipykernel_11987/2242738038.py:24: FutureWarning: Passing literal html to 'read_html' is deprecated and will be removed in a future version. To read from a literal string, wrap it in a 'StringIO' object.\n",
      "  df = pd.read_html(str(table))[0]\n",
      "/tmp/ipykernel_11987/2242738038.py:24: FutureWarning: Passing literal html to 'read_html' is deprecated and will be removed in a future version. To read from a literal string, wrap it in a 'StringIO' object.\n",
      "  df = pd.read_html(str(table))[0]\n",
      "/tmp/ipykernel_11987/2242738038.py:24: FutureWarning: Passing literal html to 'read_html' is deprecated and will be removed in a future version. To read from a literal string, wrap it in a 'StringIO' object.\n",
      "  df = pd.read_html(str(table))[0]\n",
      "/tmp/ipykernel_11987/2242738038.py:24: FutureWarning: Passing literal html to 'read_html' is deprecated and will be removed in a future version. To read from a literal string, wrap it in a 'StringIO' object.\n",
      "  df = pd.read_html(str(table))[0]\n",
      "/tmp/ipykernel_11987/2242738038.py:24: FutureWarning: Passing literal html to 'read_html' is deprecated and will be removed in a future version. To read from a literal string, wrap it in a 'StringIO' object.\n",
      "  df = pd.read_html(str(table))[0]\n",
      "/tmp/ipykernel_11987/2242738038.py:24: FutureWarning: Passing literal html to 'read_html' is deprecated and will be removed in a future version. To read from a literal string, wrap it in a 'StringIO' object.\n",
      "  df = pd.read_html(str(table))[0]\n",
      "/tmp/ipykernel_11987/2242738038.py:24: FutureWarning: Passing literal html to 'read_html' is deprecated and will be removed in a future version. To read from a literal string, wrap it in a 'StringIO' object.\n",
      "  df = pd.read_html(str(table))[0]\n",
      "/tmp/ipykernel_11987/2242738038.py:24: FutureWarning: Passing literal html to 'read_html' is deprecated and will be removed in a future version. To read from a literal string, wrap it in a 'StringIO' object.\n",
      "  df = pd.read_html(str(table))[0]\n",
      "/tmp/ipykernel_11987/2242738038.py:24: FutureWarning: Passing literal html to 'read_html' is deprecated and will be removed in a future version. To read from a literal string, wrap it in a 'StringIO' object.\n",
      "  df = pd.read_html(str(table))[0]\n"
     ]
    }
   ],
   "source": [
    "import pandas as pd\n",
    "import requests\n",
    "from bs4 import BeautifulSoup\n",
    "\n",
    "def get_tables_from_wikipedia(url):\n",
    "    # Fetch HTML content from the Wikipedia URL\n",
    "    response = requests.get(url)\n",
    "    if response.status_code != 200:\n",
    "        print(f\"Failed to retrieve the HTML. Status code: {response.status_code}\")\n",
    "        return None\n",
    "\n",
    "    html_content = response.text\n",
    "    soup = BeautifulSoup(html_content, 'html.parser')\n",
    "    \n",
    "    tables = soup.find_all('table', {'class': 'wikitable'})\n",
    "\n",
    "    if not tables:\n",
    "        print(\"No tables found on the page.\")\n",
    "        return None\n",
    "\n",
    "    dataframes = []\n",
    "    for i, table in enumerate(tables):\n",
    "        try:\n",
    "            df = pd.read_html(str(table))[0]\n",
    "            dataframes.append(df)\n",
    "            print(f\"Table {i + 1} successfully scraped.\")\n",
    "        except Exception as e:\n",
    "            print(f\"Error processing table {i + 1}: {e}\")\n",
    "\n",
    "    return dataframes\n",
    "\n",
    "#fonction qui concatene toutes les tables de la page\n",
    "def save_tables_to_csv(tables, output_file='merged_tables.csv'):\n",
    "    # Concatenate all DataFrames along rows (axis=0)\n",
    "    merged_df = pd.concat(tables, axis=0, ignore_index=True)\n",
    "\n",
    "    # Save the merged DataFrame to a CSV file\n",
    "    merged_df.to_csv(output_file, index=False)\n",
    "    print(f'Merged tables saved to {output_file}')\n"
   ]
  },
  {
   "cell_type": "code",
   "execution_count": 9,
   "id": "a64479dc-c4a0-4bc7-9272-739ad5feaf18",
   "metadata": {
    "scrolled": true
   },
   "outputs": [
    {
     "name": "stdout",
     "output_type": "stream",
     "text": [
      "{'academy_bf': 'https://en.wikipedia.org/wiki/Academy_Award_for_Best_Picture', 'academy_bd': 'https://en.wikipedia.org/wiki/Academy_Award_for_Best_Director', 'academy_bc': 'https://en.wikipedia.org/wiki/Academy_Award_for_Best_Cinematography', 'cesar_bf': 'https://en.wikipedia.org/wiki/C%C3%A9sar_Award_for_Best_Film', 'cesar_bd': 'https://en.wikipedia.org/wiki/C%C3%A9sar_Award_for_Best_Director', 'palme_or': 'https://en.wikipedia.org/wiki/Palme_d%27Or', 'cannes_jury': 'https://en.wikipedia.org/wiki/Jury_Prize_(Cannes_Film_Festival)', 'cannes_gp': 'https://en.wikipedia.org/wiki/Grand_Prix_(Cannes_Film_Festival)', 'lion_or': 'https://en.wikipedia.org/wiki/Golden_Lion', 'lion_argent': 'https://en.wikipedia.org/wiki/Silver_Lion', 'venice_gj': 'https://en.wikipedia.org/wiki/Grand_Jury_Prize_(Venice_Film_Festival)'}\n",
      "Processing academy_bf...\n"
     ]
    },
    {
     "name": "stderr",
     "output_type": "stream",
     "text": [
      "/tmp/ipykernel_11987/2242738038.py:24: FutureWarning: Passing literal html to 'read_html' is deprecated and will be removed in a future version. To read from a literal string, wrap it in a 'StringIO' object.\n",
      "  df = pd.read_html(str(table))[0]\n",
      "/tmp/ipykernel_11987/2242738038.py:24: FutureWarning: Passing literal html to 'read_html' is deprecated and will be removed in a future version. To read from a literal string, wrap it in a 'StringIO' object.\n",
      "  df = pd.read_html(str(table))[0]\n",
      "/tmp/ipykernel_11987/2242738038.py:24: FutureWarning: Passing literal html to 'read_html' is deprecated and will be removed in a future version. To read from a literal string, wrap it in a 'StringIO' object.\n",
      "  df = pd.read_html(str(table))[0]\n",
      "/tmp/ipykernel_11987/2242738038.py:24: FutureWarning: Passing literal html to 'read_html' is deprecated and will be removed in a future version. To read from a literal string, wrap it in a 'StringIO' object.\n",
      "  df = pd.read_html(str(table))[0]\n",
      "/tmp/ipykernel_11987/2242738038.py:24: FutureWarning: Passing literal html to 'read_html' is deprecated and will be removed in a future version. To read from a literal string, wrap it in a 'StringIO' object.\n",
      "  df = pd.read_html(str(table))[0]\n",
      "/tmp/ipykernel_11987/2242738038.py:24: FutureWarning: Passing literal html to 'read_html' is deprecated and will be removed in a future version. To read from a literal string, wrap it in a 'StringIO' object.\n",
      "  df = pd.read_html(str(table))[0]\n",
      "/tmp/ipykernel_11987/2242738038.py:24: FutureWarning: Passing literal html to 'read_html' is deprecated and will be removed in a future version. To read from a literal string, wrap it in a 'StringIO' object.\n",
      "  df = pd.read_html(str(table))[0]\n",
      "/tmp/ipykernel_11987/2242738038.py:24: FutureWarning: Passing literal html to 'read_html' is deprecated and will be removed in a future version. To read from a literal string, wrap it in a 'StringIO' object.\n",
      "  df = pd.read_html(str(table))[0]\n",
      "/tmp/ipykernel_11987/2242738038.py:24: FutureWarning: Passing literal html to 'read_html' is deprecated and will be removed in a future version. To read from a literal string, wrap it in a 'StringIO' object.\n",
      "  df = pd.read_html(str(table))[0]\n",
      "/tmp/ipykernel_11987/2242738038.py:24: FutureWarning: Passing literal html to 'read_html' is deprecated and will be removed in a future version. To read from a literal string, wrap it in a 'StringIO' object.\n",
      "  df = pd.read_html(str(table))[0]\n",
      "/tmp/ipykernel_11987/2242738038.py:24: FutureWarning: Passing literal html to 'read_html' is deprecated and will be removed in a future version. To read from a literal string, wrap it in a 'StringIO' object.\n",
      "  df = pd.read_html(str(table))[0]\n",
      "/tmp/ipykernel_11987/2242738038.py:24: FutureWarning: Passing literal html to 'read_html' is deprecated and will be removed in a future version. To read from a literal string, wrap it in a 'StringIO' object.\n",
      "  df = pd.read_html(str(table))[0]\n"
     ]
    },
    {
     "name": "stdout",
     "output_type": "stream",
     "text": [
      "Table 1 successfully scraped.\n",
      "Table 2 successfully scraped.\n",
      "Table 3 successfully scraped.\n",
      "Table 4 successfully scraped.\n",
      "Table 5 successfully scraped.\n",
      "Table 6 successfully scraped.\n",
      "Table 7 successfully scraped.\n",
      "Table 8 successfully scraped.\n",
      "Table 9 successfully scraped.\n",
      "Table 10 successfully scraped.\n",
      "Table 11 successfully scraped.\n",
      "Table 12 successfully scraped.\n",
      "Merged tables saved to academy_bf.csv\n",
      "Processing academy_bd...\n"
     ]
    },
    {
     "name": "stderr",
     "output_type": "stream",
     "text": [
      "/tmp/ipykernel_11987/2242738038.py:24: FutureWarning: Passing literal html to 'read_html' is deprecated and will be removed in a future version. To read from a literal string, wrap it in a 'StringIO' object.\n",
      "  df = pd.read_html(str(table))[0]\n",
      "/tmp/ipykernel_11987/2242738038.py:24: FutureWarning: Passing literal html to 'read_html' is deprecated and will be removed in a future version. To read from a literal string, wrap it in a 'StringIO' object.\n",
      "  df = pd.read_html(str(table))[0]\n",
      "/tmp/ipykernel_11987/2242738038.py:24: FutureWarning: Passing literal html to 'read_html' is deprecated and will be removed in a future version. To read from a literal string, wrap it in a 'StringIO' object.\n",
      "  df = pd.read_html(str(table))[0]\n",
      "/tmp/ipykernel_11987/2242738038.py:24: FutureWarning: Passing literal html to 'read_html' is deprecated and will be removed in a future version. To read from a literal string, wrap it in a 'StringIO' object.\n",
      "  df = pd.read_html(str(table))[0]\n",
      "/tmp/ipykernel_11987/2242738038.py:24: FutureWarning: Passing literal html to 'read_html' is deprecated and will be removed in a future version. To read from a literal string, wrap it in a 'StringIO' object.\n",
      "  df = pd.read_html(str(table))[0]\n",
      "/tmp/ipykernel_11987/2242738038.py:24: FutureWarning: Passing literal html to 'read_html' is deprecated and will be removed in a future version. To read from a literal string, wrap it in a 'StringIO' object.\n",
      "  df = pd.read_html(str(table))[0]\n",
      "/tmp/ipykernel_11987/2242738038.py:24: FutureWarning: Passing literal html to 'read_html' is deprecated and will be removed in a future version. To read from a literal string, wrap it in a 'StringIO' object.\n",
      "  df = pd.read_html(str(table))[0]\n",
      "/tmp/ipykernel_11987/2242738038.py:24: FutureWarning: Passing literal html to 'read_html' is deprecated and will be removed in a future version. To read from a literal string, wrap it in a 'StringIO' object.\n",
      "  df = pd.read_html(str(table))[0]\n",
      "/tmp/ipykernel_11987/2242738038.py:24: FutureWarning: Passing literal html to 'read_html' is deprecated and will be removed in a future version. To read from a literal string, wrap it in a 'StringIO' object.\n",
      "  df = pd.read_html(str(table))[0]\n",
      "/tmp/ipykernel_11987/2242738038.py:24: FutureWarning: Passing literal html to 'read_html' is deprecated and will be removed in a future version. To read from a literal string, wrap it in a 'StringIO' object.\n",
      "  df = pd.read_html(str(table))[0]\n",
      "/tmp/ipykernel_11987/2242738038.py:24: FutureWarning: Passing literal html to 'read_html' is deprecated and will be removed in a future version. To read from a literal string, wrap it in a 'StringIO' object.\n",
      "  df = pd.read_html(str(table))[0]\n",
      "/tmp/ipykernel_11987/2242738038.py:24: FutureWarning: Passing literal html to 'read_html' is deprecated and will be removed in a future version. To read from a literal string, wrap it in a 'StringIO' object.\n",
      "  df = pd.read_html(str(table))[0]\n",
      "/tmp/ipykernel_11987/2242738038.py:24: FutureWarning: Passing literal html to 'read_html' is deprecated and will be removed in a future version. To read from a literal string, wrap it in a 'StringIO' object.\n",
      "  df = pd.read_html(str(table))[0]\n",
      "/tmp/ipykernel_11987/2242738038.py:24: FutureWarning: Passing literal html to 'read_html' is deprecated and will be removed in a future version. To read from a literal string, wrap it in a 'StringIO' object.\n",
      "  df = pd.read_html(str(table))[0]\n",
      "/tmp/ipykernel_11987/2242738038.py:24: FutureWarning: Passing literal html to 'read_html' is deprecated and will be removed in a future version. To read from a literal string, wrap it in a 'StringIO' object.\n",
      "  df = pd.read_html(str(table))[0]\n"
     ]
    },
    {
     "name": "stdout",
     "output_type": "stream",
     "text": [
      "Table 1 successfully scraped.\n",
      "Table 2 successfully scraped.\n",
      "Table 3 successfully scraped.\n",
      "Table 4 successfully scraped.\n",
      "Table 5 successfully scraped.\n",
      "Table 6 successfully scraped.\n",
      "Table 7 successfully scraped.\n",
      "Table 8 successfully scraped.\n",
      "Table 9 successfully scraped.\n",
      "Table 10 successfully scraped.\n",
      "Table 11 successfully scraped.\n",
      "Table 12 successfully scraped.\n",
      "Table 13 successfully scraped.\n",
      "Table 14 successfully scraped.\n",
      "Table 15 successfully scraped.\n",
      "Merged tables saved to academy_bd.csv\n",
      "Processing academy_bc...\n"
     ]
    },
    {
     "name": "stderr",
     "output_type": "stream",
     "text": [
      "/tmp/ipykernel_11987/2242738038.py:24: FutureWarning: Passing literal html to 'read_html' is deprecated and will be removed in a future version. To read from a literal string, wrap it in a 'StringIO' object.\n",
      "  df = pd.read_html(str(table))[0]\n",
      "/tmp/ipykernel_11987/2242738038.py:24: FutureWarning: Passing literal html to 'read_html' is deprecated and will be removed in a future version. To read from a literal string, wrap it in a 'StringIO' object.\n",
      "  df = pd.read_html(str(table))[0]\n",
      "/tmp/ipykernel_11987/2242738038.py:24: FutureWarning: Passing literal html to 'read_html' is deprecated and will be removed in a future version. To read from a literal string, wrap it in a 'StringIO' object.\n",
      "  df = pd.read_html(str(table))[0]\n",
      "/tmp/ipykernel_11987/2242738038.py:24: FutureWarning: Passing literal html to 'read_html' is deprecated and will be removed in a future version. To read from a literal string, wrap it in a 'StringIO' object.\n",
      "  df = pd.read_html(str(table))[0]\n",
      "/tmp/ipykernel_11987/2242738038.py:24: FutureWarning: Passing literal html to 'read_html' is deprecated and will be removed in a future version. To read from a literal string, wrap it in a 'StringIO' object.\n",
      "  df = pd.read_html(str(table))[0]\n",
      "/tmp/ipykernel_11987/2242738038.py:24: FutureWarning: Passing literal html to 'read_html' is deprecated and will be removed in a future version. To read from a literal string, wrap it in a 'StringIO' object.\n",
      "  df = pd.read_html(str(table))[0]\n",
      "/tmp/ipykernel_11987/2242738038.py:24: FutureWarning: Passing literal html to 'read_html' is deprecated and will be removed in a future version. To read from a literal string, wrap it in a 'StringIO' object.\n",
      "  df = pd.read_html(str(table))[0]\n",
      "/tmp/ipykernel_11987/2242738038.py:24: FutureWarning: Passing literal html to 'read_html' is deprecated and will be removed in a future version. To read from a literal string, wrap it in a 'StringIO' object.\n",
      "  df = pd.read_html(str(table))[0]\n",
      "/tmp/ipykernel_11987/2242738038.py:24: FutureWarning: Passing literal html to 'read_html' is deprecated and will be removed in a future version. To read from a literal string, wrap it in a 'StringIO' object.\n",
      "  df = pd.read_html(str(table))[0]\n",
      "/tmp/ipykernel_11987/2242738038.py:24: FutureWarning: Passing literal html to 'read_html' is deprecated and will be removed in a future version. To read from a literal string, wrap it in a 'StringIO' object.\n",
      "  df = pd.read_html(str(table))[0]\n",
      "/tmp/ipykernel_11987/2242738038.py:24: FutureWarning: Passing literal html to 'read_html' is deprecated and will be removed in a future version. To read from a literal string, wrap it in a 'StringIO' object.\n",
      "  df = pd.read_html(str(table))[0]\n",
      "/tmp/ipykernel_11987/2242738038.py:24: FutureWarning: Passing literal html to 'read_html' is deprecated and will be removed in a future version. To read from a literal string, wrap it in a 'StringIO' object.\n",
      "  df = pd.read_html(str(table))[0]\n",
      "/tmp/ipykernel_11987/2242738038.py:24: FutureWarning: Passing literal html to 'read_html' is deprecated and will be removed in a future version. To read from a literal string, wrap it in a 'StringIO' object.\n",
      "  df = pd.read_html(str(table))[0]\n",
      "/tmp/ipykernel_11987/2242738038.py:24: FutureWarning: Passing literal html to 'read_html' is deprecated and will be removed in a future version. To read from a literal string, wrap it in a 'StringIO' object.\n",
      "  df = pd.read_html(str(table))[0]\n",
      "/tmp/ipykernel_11987/2242738038.py:24: FutureWarning: Passing literal html to 'read_html' is deprecated and will be removed in a future version. To read from a literal string, wrap it in a 'StringIO' object.\n",
      "  df = pd.read_html(str(table))[0]\n"
     ]
    },
    {
     "name": "stdout",
     "output_type": "stream",
     "text": [
      "Table 1 successfully scraped.\n",
      "Table 2 successfully scraped.\n",
      "Table 3 successfully scraped.\n",
      "Table 4 successfully scraped.\n",
      "Table 5 successfully scraped.\n",
      "Table 6 successfully scraped.\n",
      "Table 7 successfully scraped.\n",
      "Table 8 successfully scraped.\n",
      "Table 9 successfully scraped.\n",
      "Table 10 successfully scraped.\n",
      "Table 11 successfully scraped.\n",
      "Table 12 successfully scraped.\n",
      "Table 13 successfully scraped.\n",
      "Table 14 successfully scraped.\n",
      "Table 15 successfully scraped.\n",
      "Merged tables saved to academy_bc.csv\n",
      "Processing cesar_bf...\n"
     ]
    },
    {
     "name": "stderr",
     "output_type": "stream",
     "text": [
      "/tmp/ipykernel_11987/2242738038.py:24: FutureWarning: Passing literal html to 'read_html' is deprecated and will be removed in a future version. To read from a literal string, wrap it in a 'StringIO' object.\n",
      "  df = pd.read_html(str(table))[0]\n",
      "/tmp/ipykernel_11987/2242738038.py:24: FutureWarning: Passing literal html to 'read_html' is deprecated and will be removed in a future version. To read from a literal string, wrap it in a 'StringIO' object.\n",
      "  df = pd.read_html(str(table))[0]\n",
      "/tmp/ipykernel_11987/2242738038.py:24: FutureWarning: Passing literal html to 'read_html' is deprecated and will be removed in a future version. To read from a literal string, wrap it in a 'StringIO' object.\n",
      "  df = pd.read_html(str(table))[0]\n",
      "/tmp/ipykernel_11987/2242738038.py:24: FutureWarning: Passing literal html to 'read_html' is deprecated and will be removed in a future version. To read from a literal string, wrap it in a 'StringIO' object.\n",
      "  df = pd.read_html(str(table))[0]\n",
      "/tmp/ipykernel_11987/2242738038.py:24: FutureWarning: Passing literal html to 'read_html' is deprecated and will be removed in a future version. To read from a literal string, wrap it in a 'StringIO' object.\n",
      "  df = pd.read_html(str(table))[0]\n",
      "/tmp/ipykernel_11987/2242738038.py:24: FutureWarning: Passing literal html to 'read_html' is deprecated and will be removed in a future version. To read from a literal string, wrap it in a 'StringIO' object.\n",
      "  df = pd.read_html(str(table))[0]\n"
     ]
    },
    {
     "name": "stdout",
     "output_type": "stream",
     "text": [
      "Table 1 successfully scraped.\n",
      "Table 2 successfully scraped.\n",
      "Table 3 successfully scraped.\n",
      "Table 4 successfully scraped.\n",
      "Table 5 successfully scraped.\n",
      "Table 6 successfully scraped.\n",
      "Merged tables saved to cesar_bf.csv\n",
      "Processing cesar_bd...\n"
     ]
    },
    {
     "name": "stderr",
     "output_type": "stream",
     "text": [
      "/tmp/ipykernel_11987/2242738038.py:24: FutureWarning: Passing literal html to 'read_html' is deprecated and will be removed in a future version. To read from a literal string, wrap it in a 'StringIO' object.\n",
      "  df = pd.read_html(str(table))[0]\n",
      "/tmp/ipykernel_11987/2242738038.py:24: FutureWarning: Passing literal html to 'read_html' is deprecated and will be removed in a future version. To read from a literal string, wrap it in a 'StringIO' object.\n",
      "  df = pd.read_html(str(table))[0]\n",
      "/tmp/ipykernel_11987/2242738038.py:24: FutureWarning: Passing literal html to 'read_html' is deprecated and will be removed in a future version. To read from a literal string, wrap it in a 'StringIO' object.\n",
      "  df = pd.read_html(str(table))[0]\n",
      "/tmp/ipykernel_11987/2242738038.py:24: FutureWarning: Passing literal html to 'read_html' is deprecated and will be removed in a future version. To read from a literal string, wrap it in a 'StringIO' object.\n",
      "  df = pd.read_html(str(table))[0]\n",
      "/tmp/ipykernel_11987/2242738038.py:24: FutureWarning: Passing literal html to 'read_html' is deprecated and will be removed in a future version. To read from a literal string, wrap it in a 'StringIO' object.\n",
      "  df = pd.read_html(str(table))[0]\n",
      "/tmp/ipykernel_11987/2242738038.py:24: FutureWarning: Passing literal html to 'read_html' is deprecated and will be removed in a future version. To read from a literal string, wrap it in a 'StringIO' object.\n",
      "  df = pd.read_html(str(table))[0]\n",
      "/tmp/ipykernel_11987/2242738038.py:24: FutureWarning: Passing literal html to 'read_html' is deprecated and will be removed in a future version. To read from a literal string, wrap it in a 'StringIO' object.\n",
      "  df = pd.read_html(str(table))[0]\n",
      "/tmp/ipykernel_11987/2242738038.py:24: FutureWarning: Passing literal html to 'read_html' is deprecated and will be removed in a future version. To read from a literal string, wrap it in a 'StringIO' object.\n",
      "  df = pd.read_html(str(table))[0]\n",
      "/tmp/ipykernel_11987/2242738038.py:24: FutureWarning: Passing literal html to 'read_html' is deprecated and will be removed in a future version. To read from a literal string, wrap it in a 'StringIO' object.\n",
      "  df = pd.read_html(str(table))[0]\n"
     ]
    },
    {
     "name": "stdout",
     "output_type": "stream",
     "text": [
      "Table 1 successfully scraped.\n",
      "Table 2 successfully scraped.\n",
      "Table 3 successfully scraped.\n",
      "Table 4 successfully scraped.\n",
      "Table 5 successfully scraped.\n",
      "Table 6 successfully scraped.\n",
      "Table 7 successfully scraped.\n",
      "Table 8 successfully scraped.\n",
      "Table 9 successfully scraped.\n",
      "Merged tables saved to cesar_bd.csv\n",
      "Processing palme_or...\n"
     ]
    },
    {
     "name": "stderr",
     "output_type": "stream",
     "text": [
      "/tmp/ipykernel_11987/2242738038.py:24: FutureWarning: Passing literal html to 'read_html' is deprecated and will be removed in a future version. To read from a literal string, wrap it in a 'StringIO' object.\n",
      "  df = pd.read_html(str(table))[0]\n",
      "/tmp/ipykernel_11987/2242738038.py:24: FutureWarning: Passing literal html to 'read_html' is deprecated and will be removed in a future version. To read from a literal string, wrap it in a 'StringIO' object.\n",
      "  df = pd.read_html(str(table))[0]\n",
      "/tmp/ipykernel_11987/2242738038.py:24: FutureWarning: Passing literal html to 'read_html' is deprecated and will be removed in a future version. To read from a literal string, wrap it in a 'StringIO' object.\n",
      "  df = pd.read_html(str(table))[0]\n",
      "/tmp/ipykernel_11987/2242738038.py:24: FutureWarning: Passing literal html to 'read_html' is deprecated and will be removed in a future version. To read from a literal string, wrap it in a 'StringIO' object.\n",
      "  df = pd.read_html(str(table))[0]\n"
     ]
    },
    {
     "name": "stdout",
     "output_type": "stream",
     "text": [
      "Table 1 successfully scraped.\n",
      "Table 2 successfully scraped.\n",
      "Table 3 successfully scraped.\n",
      "Table 4 successfully scraped.\n",
      "Merged tables saved to palme_or.csv\n",
      "Processing cannes_jury...\n"
     ]
    },
    {
     "name": "stderr",
     "output_type": "stream",
     "text": [
      "/tmp/ipykernel_11987/2242738038.py:24: FutureWarning: Passing literal html to 'read_html' is deprecated and will be removed in a future version. To read from a literal string, wrap it in a 'StringIO' object.\n",
      "  df = pd.read_html(str(table))[0]\n",
      "/tmp/ipykernel_11987/2242738038.py:24: FutureWarning: Passing literal html to 'read_html' is deprecated and will be removed in a future version. To read from a literal string, wrap it in a 'StringIO' object.\n",
      "  df = pd.read_html(str(table))[0]\n"
     ]
    },
    {
     "name": "stdout",
     "output_type": "stream",
     "text": [
      "Table 1 successfully scraped.\n",
      "Table 2 successfully scraped.\n",
      "Merged tables saved to cannes_jury.csv\n",
      "Processing cannes_gp...\n"
     ]
    },
    {
     "name": "stderr",
     "output_type": "stream",
     "text": [
      "/tmp/ipykernel_11987/2242738038.py:24: FutureWarning: Passing literal html to 'read_html' is deprecated and will be removed in a future version. To read from a literal string, wrap it in a 'StringIO' object.\n",
      "  df = pd.read_html(str(table))[0]\n",
      "/tmp/ipykernel_11987/2242738038.py:24: FutureWarning: Passing literal html to 'read_html' is deprecated and will be removed in a future version. To read from a literal string, wrap it in a 'StringIO' object.\n",
      "  df = pd.read_html(str(table))[0]\n"
     ]
    },
    {
     "name": "stdout",
     "output_type": "stream",
     "text": [
      "Table 1 successfully scraped.\n",
      "Table 2 successfully scraped.\n",
      "Merged tables saved to cannes_gp.csv\n",
      "Processing lion_or...\n"
     ]
    },
    {
     "name": "stderr",
     "output_type": "stream",
     "text": [
      "/tmp/ipykernel_11987/2242738038.py:24: FutureWarning: Passing literal html to 'read_html' is deprecated and will be removed in a future version. To read from a literal string, wrap it in a 'StringIO' object.\n",
      "  df = pd.read_html(str(table))[0]\n",
      "/tmp/ipykernel_11987/2242738038.py:24: FutureWarning: Passing literal html to 'read_html' is deprecated and will be removed in a future version. To read from a literal string, wrap it in a 'StringIO' object.\n",
      "  df = pd.read_html(str(table))[0]\n"
     ]
    },
    {
     "name": "stdout",
     "output_type": "stream",
     "text": [
      "Table 1 successfully scraped.\n",
      "Table 2 successfully scraped.\n",
      "Merged tables saved to lion_or.csv\n",
      "Processing lion_argent...\n"
     ]
    },
    {
     "name": "stderr",
     "output_type": "stream",
     "text": [
      "/tmp/ipykernel_11987/2242738038.py:24: FutureWarning: Passing literal html to 'read_html' is deprecated and will be removed in a future version. To read from a literal string, wrap it in a 'StringIO' object.\n",
      "  df = pd.read_html(str(table))[0]\n",
      "/tmp/ipykernel_11987/2242738038.py:24: FutureWarning: Passing literal html to 'read_html' is deprecated and will be removed in a future version. To read from a literal string, wrap it in a 'StringIO' object.\n",
      "  df = pd.read_html(str(table))[0]\n",
      "/tmp/ipykernel_11987/2242738038.py:24: FutureWarning: Passing literal html to 'read_html' is deprecated and will be removed in a future version. To read from a literal string, wrap it in a 'StringIO' object.\n",
      "  df = pd.read_html(str(table))[0]\n",
      "/tmp/ipykernel_11987/2242738038.py:24: FutureWarning: Passing literal html to 'read_html' is deprecated and will be removed in a future version. To read from a literal string, wrap it in a 'StringIO' object.\n",
      "  df = pd.read_html(str(table))[0]\n",
      "/tmp/ipykernel_11987/2242738038.py:24: FutureWarning: Passing literal html to 'read_html' is deprecated and will be removed in a future version. To read from a literal string, wrap it in a 'StringIO' object.\n",
      "  df = pd.read_html(str(table))[0]\n",
      "/tmp/ipykernel_11987/2242738038.py:24: FutureWarning: Passing literal html to 'read_html' is deprecated and will be removed in a future version. To read from a literal string, wrap it in a 'StringIO' object.\n",
      "  df = pd.read_html(str(table))[0]\n",
      "/tmp/ipykernel_11987/2242738038.py:24: FutureWarning: Passing literal html to 'read_html' is deprecated and will be removed in a future version. To read from a literal string, wrap it in a 'StringIO' object.\n",
      "  df = pd.read_html(str(table))[0]\n",
      "/tmp/ipykernel_11987/2242738038.py:24: FutureWarning: Passing literal html to 'read_html' is deprecated and will be removed in a future version. To read from a literal string, wrap it in a 'StringIO' object.\n",
      "  df = pd.read_html(str(table))[0]\n"
     ]
    },
    {
     "name": "stdout",
     "output_type": "stream",
     "text": [
      "Table 1 successfully scraped.\n",
      "Table 2 successfully scraped.\n",
      "Table 3 successfully scraped.\n",
      "Table 4 successfully scraped.\n",
      "Table 5 successfully scraped.\n",
      "Table 6 successfully scraped.\n",
      "Table 7 successfully scraped.\n",
      "Table 8 successfully scraped.\n",
      "Merged tables saved to lion_argent.csv\n",
      "Processing venice_gj...\n",
      "Table 1 successfully scraped.\n",
      "Table 2 successfully scraped.\n",
      "Merged tables saved to venice_gj.csv\n",
      "Toutes les tables ont été extraites et sauvegardées en fichiers CSV.\n"
     ]
    },
    {
     "name": "stderr",
     "output_type": "stream",
     "text": [
      "/tmp/ipykernel_11987/2242738038.py:24: FutureWarning: Passing literal html to 'read_html' is deprecated and will be removed in a future version. To read from a literal string, wrap it in a 'StringIO' object.\n",
      "  df = pd.read_html(str(table))[0]\n",
      "/tmp/ipykernel_11987/2242738038.py:24: FutureWarning: Passing literal html to 'read_html' is deprecated and will be removed in a future version. To read from a literal string, wrap it in a 'StringIO' object.\n",
      "  df = pd.read_html(str(table))[0]\n"
     ]
    }
   ],
   "source": [
    "#Créer toutes les tables avec les nominations : \n",
    "dict_awards={\"academy_bf\": url_academy_bf , \"academy_bd\" : url_academy_bd, \"academy_bc\": url_academy_bc, \"cesar_bf\": url_cesar_bf, \"cesar_bd\": url_cesar_bd, \"palme_or\": url_palme_or, \"cannes_jury\":url_cannes_jury,\n",
    "             \"cannes_gp\": url_cannes_gp, \"lion_or\": url_lion_or, \"lion_argent\":url_lion_argent, \"venice_gj\":url_venice_gj}\n",
    "print(dict_awards)\n",
    "#Loop qui va créer toutes les tables:\n",
    "for award_name, award_link in dict_awards.items():\n",
    "    print(f\"Processing {award_name}...\")\n",
    "    \n",
    "    # Utilisez la fonction scrape_wikipedia_table pour obtenir les tables Wikipedia\n",
    "    tables = get_tables_from_wikipedia(award_link)\n",
    "\n",
    "    # Sauvegardez les tables dans un fichier CSV portant le nom du prix\n",
    "    output_file = f\"{award_name}.csv\"\n",
    "    save_tables_to_csv(tables, output_file)\n",
    "\n",
    "print(\"Toutes les tables ont été extraites et sauvegardées en fichiers CSV.\")\n",
    "\n",
    "\n",
    "\n"
   ]
  },
  {
   "cell_type": "code",
   "execution_count": null,
   "id": "12e97722-bb80-49b4-b5ab-8eeeac544209",
   "metadata": {},
   "outputs": [],
   "source": [
    "#fonction qui prend en argument le URL et qui ressort \n",
    "\n",
    "def scrapper_wiki(url): \n",
    "    url_req = request.urlopen(url).read()\n",
    "    wiki_page = bs4.BeautifulSoup(url_req, \"lxml\")\n",
    "    "
   ]
  }
 ],
 "metadata": {
  "kernelspec": {
   "display_name": "Python 3 (ipykernel)",
   "language": "python",
   "name": "python3"
  },
  "language_info": {
   "codemirror_mode": {
    "name": "ipython",
    "version": 3
   },
   "file_extension": ".py",
   "mimetype": "text/x-python",
   "name": "python",
   "nbconvert_exporter": "python",
   "pygments_lexer": "ipython3",
   "version": "3.10.13"
  }
 },
 "nbformat": 4,
 "nbformat_minor": 5
}
