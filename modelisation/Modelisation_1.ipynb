{
 "cells": [
  {
   "cell_type": "markdown",
   "id": "39b13f73-bd35-4c44-85f4-30713483e437",
   "metadata": {},
   "source": [
    "# **Modélisation 1**\n",
    "\n",
    "À partir de l'article Medium référencé dans le README, nous allons essayer de créer un algorithme de recommendation à partir de notre base. Au vu du contenu de notre base, nous n'allons pas vraimet pouvoir implementer une partie en fonction de ce que les utilisateurs ayant aimé un film auraient aussi aimé, et plus nous concentrer sur les caractéristiques des films."
   ]
  },
  {
   "cell_type": "code",
   "execution_count": 205,
   "id": "0a2b9bb7-dafb-4a2f-af0c-373b93b4a53b",
   "metadata": {},
   "outputs": [],
   "source": [
    "import pandas as pd\n",
    "import ast\n",
    "from sklearn.feature_extraction.text import TfidfVectorizer\n",
    "from sklearn.metrics.pairwise import linear_kernel\n",
    "from sklearn.metrics.pairwise import cosine_similarity"
   ]
  },
  {
   "cell_type": "code",
   "execution_count": 206,
   "id": "159edc59-0354-4da8-a024-b21a85cd3f1e",
   "metadata": {},
   "outputs": [],
   "source": [
    "def safe_literal_eval(x):\n",
    "    try:\n",
    "        return ast.literal_eval(x)\n",
    "    except (SyntaxError, ValueError):\n",
    "        return []\n",
    "\n",
    "def fonction_charge(path) :\n",
    "    df = pd.read_csv(path)\n",
    "    df_f = df.drop_duplicates()\n",
    "    df_f['release_date'] = pd.to_datetime(df_f['release_date'])\n",
    "    # De la même façon on convertit la colonne 'budget' qui est composée de chaînes de caractères et non de valeurs numériques\n",
    "    df_f['budget'] = pd.to_numeric(df_f['budget'], errors='coerce')\n",
    "    df_f['genres_list'] = df_f['genres_list'].apply(ast.literal_eval)\n",
    "    df_f['countries_prod'] = df_f['countries_prod'].apply(ast.literal_eval)\n",
    "    df_f['languages_list'] = df_f['languages_list'].apply(ast.literal_eval)\n",
    "    df_f['prod_companies'] = df_f['prod_companies'].apply(ast.literal_eval)\n",
    "    df_f['directors'] = df_f['directors'].apply(safe_literal_eval)\n",
    "    return df_f "
   ]
  },
  {
   "cell_type": "code",
   "execution_count": 207,
   "id": "4ede3491-005d-4c28-8b1c-114e21481794",
   "metadata": {},
   "outputs": [
    {
     "name": "stderr",
     "output_type": "stream",
     "text": [
      "/tmp/ipykernel_6813/1525667594.py:10: SettingWithCopyWarning: \n",
      "A value is trying to be set on a copy of a slice from a DataFrame.\n",
      "Try using .loc[row_indexer,col_indexer] = value instead\n",
      "\n",
      "See the caveats in the documentation: https://pandas.pydata.org/pandas-docs/stable/user_guide/indexing.html#returning-a-view-versus-a-copy\n",
      "  df_f['release_date'] = pd.to_datetime(df_f['release_date'])\n",
      "/tmp/ipykernel_6813/1525667594.py:12: SettingWithCopyWarning: \n",
      "A value is trying to be set on a copy of a slice from a DataFrame.\n",
      "Try using .loc[row_indexer,col_indexer] = value instead\n",
      "\n",
      "See the caveats in the documentation: https://pandas.pydata.org/pandas-docs/stable/user_guide/indexing.html#returning-a-view-versus-a-copy\n",
      "  df_f['budget'] = pd.to_numeric(df_f['budget'], errors='coerce')\n",
      "/tmp/ipykernel_6813/1525667594.py:13: SettingWithCopyWarning: \n",
      "A value is trying to be set on a copy of a slice from a DataFrame.\n",
      "Try using .loc[row_indexer,col_indexer] = value instead\n",
      "\n",
      "See the caveats in the documentation: https://pandas.pydata.org/pandas-docs/stable/user_guide/indexing.html#returning-a-view-versus-a-copy\n",
      "  df_f['genres_list'] = df_f['genres_list'].apply(ast.literal_eval)\n",
      "/tmp/ipykernel_6813/1525667594.py:14: SettingWithCopyWarning: \n",
      "A value is trying to be set on a copy of a slice from a DataFrame.\n",
      "Try using .loc[row_indexer,col_indexer] = value instead\n",
      "\n",
      "See the caveats in the documentation: https://pandas.pydata.org/pandas-docs/stable/user_guide/indexing.html#returning-a-view-versus-a-copy\n",
      "  df_f['countries_prod'] = df_f['countries_prod'].apply(ast.literal_eval)\n",
      "/tmp/ipykernel_6813/1525667594.py:15: SettingWithCopyWarning: \n",
      "A value is trying to be set on a copy of a slice from a DataFrame.\n",
      "Try using .loc[row_indexer,col_indexer] = value instead\n",
      "\n",
      "See the caveats in the documentation: https://pandas.pydata.org/pandas-docs/stable/user_guide/indexing.html#returning-a-view-versus-a-copy\n",
      "  df_f['languages_list'] = df_f['languages_list'].apply(ast.literal_eval)\n",
      "/tmp/ipykernel_6813/1525667594.py:16: SettingWithCopyWarning: \n",
      "A value is trying to be set on a copy of a slice from a DataFrame.\n",
      "Try using .loc[row_indexer,col_indexer] = value instead\n",
      "\n",
      "See the caveats in the documentation: https://pandas.pydata.org/pandas-docs/stable/user_guide/indexing.html#returning-a-view-versus-a-copy\n",
      "  df_f['prod_companies'] = df_f['prod_companies'].apply(ast.literal_eval)\n",
      "/tmp/ipykernel_6813/1525667594.py:17: SettingWithCopyWarning: \n",
      "A value is trying to be set on a copy of a slice from a DataFrame.\n",
      "Try using .loc[row_indexer,col_indexer] = value instead\n",
      "\n",
      "See the caveats in the documentation: https://pandas.pydata.org/pandas-docs/stable/user_guide/indexing.html#returning-a-view-versus-a-copy\n",
      "  df_f['directors'] = df_f['directors'].apply(safe_literal_eval)\n"
     ]
    },
    {
     "data": {
      "text/plain": [
       "Index(['adult', 'budget', 'id', 'imdb_id', 'original_language',\n",
       "       'original_title', 'overview', 'popularity', 'release_date', 'revenue',\n",
       "       'runtime', 'tagline', 'title', 'vote_average', 'vote_count',\n",
       "       'directors', 'collection_name', 'genres_list', 'countries_prod',\n",
       "       'languages_list', 'prod_companies', 'Award_mains', 'Mains_cat',\n",
       "       'Award_fest', 'Fest_cat'],\n",
       "      dtype='object')"
      ]
     },
     "execution_count": 207,
     "metadata": {},
     "output_type": "execute_result"
    }
   ],
   "source": [
    "df = fonction_charge('../cleaning_data/Final_database.csv')\n",
    "df.columns"
   ]
  },
  {
   "cell_type": "code",
   "execution_count": 208,
   "id": "8999b866-0c7d-4f11-aafb-36c578124285",
   "metadata": {},
   "outputs": [
    {
     "data": {
      "text/plain": [
       "0                                                                                                                                                                                                               An ex-special forces operative takes a job to provide security for a journalist as she interviews a dictator, but a military coup breaks out in the middle of the interview, they are forced to escape into the jungle where they must survive. Action, Comedy Pierre Morel \n",
       "1                                                                                                                                                                                                                                                                                           When oil is discovered in 1920s Oklahoma under Osage Nation land, the Osage people are murdered one by one—until the FBI steps in to unravel the mystery. Crime, Drama, History Martin Scorsese \n",
       "2                                                                                                                                     When Branch's brother, Floyd, is kidnapped for his musical talents by a pair of nefarious pop-star villains, Branch and Poppy embark on a harrowing and emotional journey to reunite the other brothers and rescue Floyd from a fate even worse than pop-culture obscurity. Animation, Family, Music, Fantasy, Comedy Walt Dohrn The Trolls Collection\n",
       "3                                                          Jaded 74-year-old lizard Leo has been stuck in the same Florida classroom for decades with his terrarium-mate turtle. When he learns he only has one year left to live, he plans to escape to experience life on the outside but instead gets caught up in the problems of his anxious students — including an impossibly mean substitute teacher. Animation, Comedy, Family Robert Smigel, Robert Marianetti, David Wachtenheim \n",
       "4                                                                                                                                                                                                                    Willy Wonka – chock-full of ideas and determined to change the world one delectable bite at a time – is proof that the best things in life begin with a dream, and if you’re lucky enough to meet Willy Wonka, anything is possible. Comedy, Family, Fantasy Paul King \n",
       "                                                                                                                                                                                                                                                ...                                                                                                                                                                                                                                         \n",
       "12012    Ten years ago, over forty people were brutally torn to pieces in Louisiana’s Honey Island Swamp. Over the past decade, lone survivor Andrew’s claims that local legend Victor Crowley was responsible for the horrific massacre have been met with great controversy. But when a twist of fate puts him back at the scene of the tragedy, Crowley is mistakenly resurrected and Andrew must face the bloodthirsty ghost from his past. Comedy, Horror Adam Green Hatchet Collection\n",
       "12013                                                                                                                                                                                                                                                                    An ex-soldier, a teen and a cop collide in New Orleans as they hunt for the source behind a dangerous new pill that grants users temporary superpowers. Action, Crime, Science Fiction Henry Joost, Ariel Schulman \n",
       "12014                                                                    In London, after investigating crack addicted junkies for an article in her newspaper, Amy Klein watches a bizarre videotape where an underground group of youngsters in Bucharest apparently become zombies. Amy finds Marla dead with a puzzle cube in her hands. She brings the object to her hotel room, and opens it, beginning her journey to hell. Horror, Mystery, Thriller Rick Bota Hellraiser Collection\n",
       "12015                       Animated character Fat Albert emerges from his TV universe into the real world, accompanied by his friends Rudy, Mushmouth, Old Weird Harold and Dumb Donald. Though the gang is flabbergasted by the modern world, they make new friends, and Albert attempts to help young Doris become popular. But things get complicated when Albert falls for her older sister, Lauri, and must turn to creator Bill Cosby for advice. Comedy, Family, Fantasy Joel Zwick \n",
       "12016                                                                                                                                                                                                                                                                                                                                                                                              A junkie must face his true self to kick his drug addiction. Drama, Crime Otto Preminger \n",
       "Name: combined_info, Length: 9180, dtype: object"
      ]
     },
     "execution_count": 208,
     "metadata": {},
     "output_type": "execute_result"
    }
   ],
   "source": [
    "movies_df = df\n",
    "movies_df['genres_ex'] = movies_df['genres_list'].apply(lambda x: ', '.join(map(str, x)))\n",
    "movies_df['direct_ex'] = movies_df['directors'].apply(lambda x: ', '.join(map(str, x)))\n",
    "movies_df\n",
    "# Create a new column with combined information\n",
    "movies_df['combined_info'] = (\n",
    "    movies_df['overview'] + ' ' + movies_df['genres_ex'] + ' ' +  movies_df['direct_ex'] + ' ' +  movies_df['collection_name'].fillna('')\n",
    ")\n",
    "movies_df['combined_info']\n"
   ]
  },
  {
   "cell_type": "code",
   "execution_count": 209,
   "id": "212e46ea-2b40-41fb-9449-0fd1d015a16a",
   "metadata": {},
   "outputs": [],
   "source": [
    "movies_df['combined_info'].fillna('', inplace=True)\n",
    "\n",
    "# initialisation et tfidf\n",
    "tfidf = TfidfVectorizer(stop_words='english')\n",
    "tfidf_matrix = tfidf.fit_transform(movies_df['combined_info'])\n"
   ]
  },
  {
   "cell_type": "code",
   "execution_count": 210,
   "id": "6e1ff127-14b0-422a-9cd4-df5ea33a2521",
   "metadata": {},
   "outputs": [],
   "source": [
    "# la matrice de similarité\n",
    "cos_mat = linear_kernel(tfidf_matrix, tfidf_matrix)"
   ]
  },
  {
   "cell_type": "code",
   "execution_count": 211,
   "id": "5e1a5691-2f27-4d2c-9ad0-08eb37ea6514",
   "metadata": {},
   "outputs": [
    {
     "name": "stdout",
     "output_type": "stream",
     "text": [
      "9158.0\n"
     ]
    }
   ],
   "source": [
    "diag = 0\n",
    "for i in range(len(cos_mat)):\n",
    "    diag+= cos_mat[i][i]\n",
    "    \n",
    "print(diag)"
   ]
  },
  {
   "cell_type": "code",
   "execution_count": 212,
   "id": "c10a03ac-c820-4a24-8023-7de6568bdf65",
   "metadata": {},
   "outputs": [],
   "source": [
    "def get_recommendations(movie, n):\n",
    "    \n",
    "    # récupérer l'index\n",
    "    index = movies_df[movies_df['title']== movie].index[0]\n",
    "    \n",
    "    # trier les n films plus proches    \n",
    "    similar_movies = sorted(list(enumerate(cos_mat[index])), reverse=True, key=lambda x: x[1]) \n",
    "    \n",
    "    # extraire les noms et les afficher\n",
    "    recomm = []\n",
    "    for i in similar_movies[1:n+1]:\n",
    "        recomm.append(df.iloc[i[0]].title)\n",
    "        \n",
    "    return recomm\n"
   ]
  },
  {
   "cell_type": "code",
   "execution_count": 213,
   "id": "25ee768b-cef6-4e38-9cfe-e03e4a38a344",
   "metadata": {},
   "outputs": [
    {
     "data": {
      "text/plain": [
       "['The Week Of',\n",
       " 'Cat Person',\n",
       " 'Notes on a Scandal',\n",
       " 'Life in a Year',\n",
       " 'Home Alone 2: Lost in New York']"
      ]
     },
     "execution_count": 213,
     "metadata": {},
     "output_type": "execute_result"
    }
   ],
   "source": [
    "get_recommendations(\"Leo\", 5)"
   ]
  },
  {
   "cell_type": "code",
   "execution_count": 214,
   "id": "e4d8421e-b261-46a4-b25d-f0c330e2a35f",
   "metadata": {},
   "outputs": [
    {
     "data": {
      "text/plain": [
       "['Suck Me Shakespeer', 'Ballerina', 'Obsessed', 'Hyungsu: Forbidden Love']"
      ]
     },
     "execution_count": 214,
     "metadata": {},
     "output_type": "execute_result"
    }
   ],
   "source": [
    "get_recommendations(\"Everything Everywhere All at Once\", 4)"
   ]
  },
  {
   "cell_type": "code",
   "execution_count": 215,
   "id": "bdb43bf5-cf1a-4564-ada3-9d499edb5293",
   "metadata": {},
   "outputs": [
    {
     "name": "stdout",
     "output_type": "stream",
     "text": [
      "(9180, 30824) (9180, 9180)\n"
     ]
    }
   ],
   "source": [
    "cos_mat = linear_kernel(tfidf_matrix, tfidf_matrix)\n",
    "\n",
    "print(tfidf_matrix.shape ,\n",
    "cos_mat.shape)\n",
    "#vérification de la dimension pour les opérations ensuite "
   ]
  },
  {
   "cell_type": "code",
   "execution_count": 216,
   "id": "39a38d19-dfcb-408d-8415-1e4ba5ab226b",
   "metadata": {},
   "outputs": [],
   "source": [
    "def get_keywords_recommendations(keywords, n):\n",
    "    \n",
    "    keywords = keywords.split()\n",
    "    keywords = \" \".join(keywords)\n",
    "    \n",
    "    # transformer le str en vect\n",
    "    key_tfidf = tfidf.transform([keywords]) \n",
    "    \n",
    "    # calcul de la cosine similarity - qq soucis avec la dimension reglés\n",
    "   \n",
    "    result = cosine_similarity(key_tfidf, tfidf_matrix)\n",
    "\n",
    "    \n",
    "    # trier les n meilleurs   \n",
    "    similar_key_movies = sorted(list(enumerate(result[0])), reverse=True, key=lambda x: x[1])\n",
    "    \n",
    "    # extraction des noms et retour des noms \n",
    "    recomm = []\n",
    "    for i in similar_key_movies[1:n+1]:\n",
    "        recomm.append(df.iloc[i[0]].title)\n",
    "        \n",
    "    return recomm"
   ]
  },
  {
   "cell_type": "code",
   "execution_count": 217,
   "id": "9d91d179-0462-45ef-aaa4-329b6a7b0724",
   "metadata": {},
   "outputs": [
    {
     "data": {
      "text/plain": [
       "['Oppenheimer', 'The Prestige', 'Tenet', 'Interstellar']"
      ]
     },
     "execution_count": 217,
     "metadata": {},
     "output_type": "execute_result"
    }
   ],
   "source": [
    "get_keywords_recommendations(\"Christopher Nolan Magic\", 4)"
   ]
  },
  {
   "cell_type": "code",
   "execution_count": 218,
   "id": "80a38f8a-05e3-4a47-a370-5535937795ca",
   "metadata": {},
   "outputs": [
    {
     "data": {
      "text/plain": [
       "['Children of the Corn IV: The Gathering',\n",
       " 'Bedknobs and Broomsticks',\n",
       " 'Funny Thing About Love']"
      ]
     },
     "execution_count": 218,
     "metadata": {},
     "output_type": "execute_result"
    }
   ],
   "source": [
    "get_keywords_recommendations('Comedy about crazy children', 3)"
   ]
  },
  {
   "cell_type": "code",
   "execution_count": 219,
   "id": "4ed14ff5-07ad-45f4-802b-49c1e6266f2f",
   "metadata": {},
   "outputs": [
    {
     "data": {
      "text/plain": [
       "['Enter the Void',\n",
       " 'Oscar and the Lady in Pink',\n",
       " 'Big Trip 2: Special Delivery']"
      ]
     },
     "execution_count": 219,
     "metadata": {},
     "output_type": "execute_result"
    }
   ],
   "source": [
    "get_keywords_recommendations('Oscar', 3)"
   ]
  },
  {
   "cell_type": "code",
   "execution_count": 220,
   "id": "98486d85-811d-453a-8c7f-7a263d2bbd63",
   "metadata": {},
   "outputs": [],
   "source": [
    "#Nous pouvons aussi essayer d'intégrer les nominations car nous les avons stockées sous forme de str \n",
    "movies_df['Mains_cat'] = movies_df['Mains_cat'].fillna(\" \")\n",
    "movies_df['Fest_cat'] = movies_df['Fest_cat'].fillna(\" \")\n",
    "movies_df['mains_ex'] = movies_df['Mains_cat'].apply(lambda x: ''.join(map(str, x)))\n",
    "movies_df['fest_ex'] = movies_df['Fest_cat'].apply(lambda x: ''.join(map(str, x)))\n",
    "# Create a new column with combined information\n",
    "movies_df['combined_info_2'] = (\n",
    "    movies_df['combined_info']+ ' ' +  movies_df['fest_ex'] + ' ' + movies_df['mains_ex'].fillna('')\n",
    ")\n",
    "\n"
   ]
  },
  {
   "cell_type": "code",
   "execution_count": 221,
   "id": "b417f167-3d52-4ded-93f6-328d216929fd",
   "metadata": {},
   "outputs": [],
   "source": [
    "movies_df['combined_info_2'].fillna('', inplace=True)\n",
    "\n",
    "# initialisation et tfidf\n",
    "tfidf = TfidfVectorizer(stop_words='english')\n",
    "tfidf_matrix_2 = tfidf.fit_transform(movies_df['combined_info_2'])\n",
    "# la matrice de similarité\n",
    "cos_mat_2 = linear_kernel(tfidf_matrix_2, tfidf_matrix_2)"
   ]
  },
  {
   "cell_type": "code",
   "execution_count": 222,
   "id": "02286eda-18e3-4819-9479-e12203d060e5",
   "metadata": {},
   "outputs": [
    {
     "name": "stdout",
     "output_type": "stream",
     "text": [
      "9158.0\n"
     ]
    }
   ],
   "source": [
    "#vérification \n",
    "diag = 0\n",
    "for i in range(len(cos_mat)):\n",
    "    diag+= cos_mat_2[i][i]\n",
    "    \n",
    "print(diag)"
   ]
  },
  {
   "cell_type": "code",
   "execution_count": 223,
   "id": "2e970aab-692e-4c2f-934c-dfab06c5c6c6",
   "metadata": {},
   "outputs": [],
   "source": [
    "def get_recommendations_aw(movie, n):\n",
    "    \n",
    "    # récupérer l'index\n",
    "    index = movies_df[movies_df['title']== movie].index[0]\n",
    "    \n",
    "    # trier les n films plus proches    \n",
    "    similar_movies = sorted(list(enumerate(cos_mat_2[index])), reverse=True, key=lambda x: x[1]) \n",
    "    \n",
    "    # extraire les noms et les afficher\n",
    "    recomm = []\n",
    "    for i in similar_movies[1:n+1]:\n",
    "        recomm.append(df.iloc[i[0]].title)\n",
    "        \n",
    "    return recomm\n"
   ]
  },
  {
   "cell_type": "code",
   "execution_count": 224,
   "id": "382d77bf-c9a6-45f7-8b8c-9566d1b42ff0",
   "metadata": {},
   "outputs": [
    {
     "data": {
      "text/plain": [
       "['Diary of a Wimpy Kid: Rodrick Rules',\n",
       " 'Diary of a Wimpy Kid: Rodrick Rules',\n",
       " 'Diary of a Wimpy Kid',\n",
       " 'Diary of a Wimpy Kid: Dog Days',\n",
       " 'Diary of a Wimpy Kid: The Long Haul',\n",
       " 'Diary of a Wimpy Kid',\n",
       " 'The Snowman',\n",
       " 'The Addams Family',\n",
       " 'Dealing with Christmas',\n",
       " 'Pixels']"
      ]
     },
     "execution_count": 224,
     "metadata": {},
     "output_type": "execute_result"
    }
   ],
   "source": [
    "get_recommendations_aw(\"Parasite\", 10)"
   ]
  },
  {
   "cell_type": "code",
   "execution_count": 225,
   "id": "d94b01ef-4414-4761-8c2b-51536caedff6",
   "metadata": {},
   "outputs": [
    {
     "data": {
      "text/plain": [
       "['Diary of a Wimpy Kid: Rodrick Rules',\n",
       " 'Diary of a Wimpy Kid: Rodrick Rules',\n",
       " 'Diary of a Wimpy Kid',\n",
       " 'Diary of a Wimpy Kid: Dog Days',\n",
       " 'Diary of a Wimpy Kid: The Long Haul',\n",
       " 'Diary of a Wimpy Kid',\n",
       " 'The Snowman',\n",
       " 'The Addams Family',\n",
       " 'Dealing with Christmas',\n",
       " 'Pixels']"
      ]
     },
     "execution_count": 225,
     "metadata": {},
     "output_type": "execute_result"
    }
   ],
   "source": [
    "get_recommendations(\"Parasite\", 10)"
   ]
  },
  {
   "cell_type": "markdown",
   "id": "1f0a440d-e8fd-4ecd-91e6-536a010dd023",
   "metadata": {},
   "source": [
    "L'intégration des recompenses ne semble pas avoir eu un effet escompté car la prédiction pour Parasite de Bong Joon-ho ne semble pas avoir changé malgré l'ajout des récompenses dans le texte. Essayons pour le keyword."
   ]
  },
  {
   "cell_type": "code",
   "execution_count": 226,
   "id": "7264ccce-33e5-423b-8745-7b708bbf0d20",
   "metadata": {},
   "outputs": [],
   "source": [
    "def get_keywords_recommendations_aw(keywords, n):\n",
    "    \n",
    "    keywords = keywords.split()\n",
    "    keywords = \" \".join(keywords)\n",
    "    \n",
    "    # transformer le str en vect\n",
    "    key_tfidf_2 = tfidf.transform([keywords]) \n",
    "    \n",
    "    # calcul de la cosine similarity - qq soucis avec la dimension reglés\n",
    "   \n",
    "    result = cosine_similarity(key_tfidf_2, tfidf_matrix_2)\n",
    "\n",
    "    \n",
    "    # trier les n meilleurs   \n",
    "    similar_key_movies = sorted(list(enumerate(result[0])), reverse=True, key=lambda x: x[1])\n",
    "    \n",
    "    # extraction des noms et retour des noms \n",
    "    recomm = []\n",
    "    for i in similar_key_movies[1:n+1]:\n",
    "        recomm.append(df.iloc[i[0]].title)\n",
    "        \n",
    "    return recomm"
   ]
  },
  {
   "cell_type": "code",
   "execution_count": 231,
   "id": "f522ca78-84d3-4bd4-9072-209f6560736c",
   "metadata": {},
   "outputs": [
    {
     "data": {
      "text/plain": [
       "['West Side Story', 'A Place in the Sun', 'Stagecoach']"
      ]
     },
     "execution_count": 231,
     "metadata": {},
     "output_type": "execute_result"
    }
   ],
   "source": [
    "get_keywords_recommendations_aw('Oscar', 3)"
   ]
  },
  {
   "cell_type": "markdown",
   "id": "b3e12c75-5577-4b9c-aa04-e66755a513eb",
   "metadata": {},
   "source": [
    "Le résultat change en rentrant le nom de la récompense elle-même. Le problème est peut-être lié au passage entre l'anglais et le français."
   ]
  },
  {
   "cell_type": "markdown",
   "id": "b1ee4a7f-43a8-460c-a0ca-3024aa807c56",
   "metadata": {},
   "source": [
    "# Améliorations de l'algorithme possibles \n"
   ]
  },
  {
   "cell_type": "markdown",
   "id": "82b1a139-aa14-453c-8559-c8ae061c5827",
   "metadata": {},
   "source": [
    "Bien que satisfaisant pour ce que nous souhaitions faire, notre algorithme aurait besoin d'un certain nombre d'améliorations pour être réellement intéressant (hors du contexte d'un projet de programmation). D'un côté, la dimension \"Item-Item\" pourrait être améliorée avec l'ajout de nouvelles informations, comme les acteurs, ou les producteurs par exemple. Aussi, nous aurions pu essayé d'intégrer certaines variables numériques que nous avions récupérer mais que nous n'avons pas pu exploiter (par exemple la note moyenne, mais aussi le budget ou la durée par exemple). D'un autre, nous pourrions essayer une approche plus \"User-User\" en essayant de récolter des informations du côté des utilisateurs. Mais même sans rentrer dans une logique purement \"User-User\", récolter plus de donnée en rapport aux utilisateurs pourrait aider à affiner cet algorithme. Enfin, bien sûr, une des améliorations les plus évidentes serait d'enrichir la base avec de nouveaux films "
   ]
  }
 ],
 "metadata": {
  "kernelspec": {
   "display_name": "Python 3 (ipykernel)",
   "language": "python",
   "name": "python3"
  },
  "language_info": {
   "codemirror_mode": {
    "name": "ipython",
    "version": 3
   },
   "file_extension": ".py",
   "mimetype": "text/x-python",
   "name": "python",
   "nbconvert_exporter": "python",
   "pygments_lexer": "ipython3",
   "version": "3.10.13"
  }
 },
 "nbformat": 4,
 "nbformat_minor": 5
}
