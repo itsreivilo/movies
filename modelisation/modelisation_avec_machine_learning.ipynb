{
 "cells": [
  {
   "cell_type": "markdown",
   "id": "763513c3-abde-4c1d-9dd0-77add3dfd25a",
   "metadata": {},
   "source": [
    "# La modélisation - essai 2 - un peu de machine learning?  \n",
    "## Cette partie n'a pas abouti malgré nos essais. \n",
    "\n",
    "L'objectif de cette partie sera de proposer un algorithme de recommendation de films en prenant en compte leur proximité relative. On veut travailler sur les variables comme le cynopsis pour analyser la proximité sémantique des mots, et utiliser des procédés de machine learning et de la cross-validation pour faire un algorithme qui pourrait chosiir les poids relatifs de chaque variable suite à un stade d'entrainement. Cependant, cette partie n'a pas été réussie, contrairement à la modélisation plus simple que nous avons réalisé en premier. En effet, il semble y avoir un problème dans notre modèle et surtout lors de la récupération du nom du film. N'ayant pas encore étudié les procédés de Machine Learning en cours, et surtout non supervisé, il nous a été difficile de finaliser cette partie. Nous souhaitons tout de même laisser notre tenative ici."
   ]
  },
  {
   "cell_type": "code",
   "execution_count": 17,
   "id": "b191bd57-5309-4432-a3c5-e03ecc6c2a90",
   "metadata": {},
   "outputs": [],
   "source": [
    "#imports pour nos besoin (notamment pour ajouter une étape de validation) \n",
    "import pandas as pd\n",
    "import numpy as np\n",
    "import ast\n",
    "from sklearn.feature_extraction.text import TfidfVectorizer, CountVectorizer\n",
    "from sklearn.metrics.pairwise import linear_kernel\n",
    "from sklearn.preprocessing import MinMaxScaler\n",
    "from sklearn.model_selection import train_test_split"
   ]
  },
  {
   "cell_type": "code",
   "execution_count": 20,
   "id": "d2228261-a10a-41ff-8187-a509cda4dbad",
   "metadata": {},
   "outputs": [],
   "source": [
    "def fonction_charge(path) :\n",
    "    df = pd.read_csv(path)\n",
    "    df_f = df.drop_duplicates()\n",
    "    df_f['release_date'] = pd.to_datetime(df_f['release_date'])\n",
    "    # De la même façon on convertit la colonne 'budget' qui est composée de chaînes de caractères et non de valeurs numériques\n",
    "    df_f['budget'] = pd.to_numeric(df_f['budget'], errors='coerce')\n",
    "    df_f['genres_list'] = df_f['genres_list'].apply(ast.literal_eval)\n",
    "    df_f['countries_prod'] = df_f['countries_prod'].apply(ast.literal_eval)\n",
    "    df_f['languages_list'] = df_f['languages_list'].apply(ast.literal_eval)\n",
    "    df_f['prod_companies'] = df_f['prod_companies'].apply(ast.literal_eval)\n",
    "    return df_f "
   ]
  },
  {
   "cell_type": "code",
   "execution_count": 19,
   "id": "2ca9de30-a0c7-4476-9525-701ad7036172",
   "metadata": {},
   "outputs": [
    {
     "name": "stderr",
     "output_type": "stream",
     "text": [
      "/tmp/ipykernel_6273/49747245.py:4: SettingWithCopyWarning: \n",
      "A value is trying to be set on a copy of a slice from a DataFrame.\n",
      "Try using .loc[row_indexer,col_indexer] = value instead\n",
      "\n",
      "See the caveats in the documentation: https://pandas.pydata.org/pandas-docs/stable/user_guide/indexing.html#returning-a-view-versus-a-copy\n",
      "  df_f['release_date'] = pd.to_datetime(df_f['release_date'])\n",
      "/tmp/ipykernel_6273/49747245.py:6: SettingWithCopyWarning: \n",
      "A value is trying to be set on a copy of a slice from a DataFrame.\n",
      "Try using .loc[row_indexer,col_indexer] = value instead\n",
      "\n",
      "See the caveats in the documentation: https://pandas.pydata.org/pandas-docs/stable/user_guide/indexing.html#returning-a-view-versus-a-copy\n",
      "  df_f['budget'] = pd.to_numeric(df_f['budget'], errors='coerce')\n",
      "/tmp/ipykernel_6273/49747245.py:7: SettingWithCopyWarning: \n",
      "A value is trying to be set on a copy of a slice from a DataFrame.\n",
      "Try using .loc[row_indexer,col_indexer] = value instead\n",
      "\n",
      "See the caveats in the documentation: https://pandas.pydata.org/pandas-docs/stable/user_guide/indexing.html#returning-a-view-versus-a-copy\n",
      "  df_f['genres_list'] = df_f['genres_list'].apply(ast.literal_eval)\n",
      "/tmp/ipykernel_6273/49747245.py:8: SettingWithCopyWarning: \n",
      "A value is trying to be set on a copy of a slice from a DataFrame.\n",
      "Try using .loc[row_indexer,col_indexer] = value instead\n",
      "\n",
      "See the caveats in the documentation: https://pandas.pydata.org/pandas-docs/stable/user_guide/indexing.html#returning-a-view-versus-a-copy\n",
      "  df_f['countries_prod'] = df_f['countries_prod'].apply(ast.literal_eval)\n",
      "/tmp/ipykernel_6273/49747245.py:9: SettingWithCopyWarning: \n",
      "A value is trying to be set on a copy of a slice from a DataFrame.\n",
      "Try using .loc[row_indexer,col_indexer] = value instead\n",
      "\n",
      "See the caveats in the documentation: https://pandas.pydata.org/pandas-docs/stable/user_guide/indexing.html#returning-a-view-versus-a-copy\n",
      "  df_f['languages_list'] = df_f['languages_list'].apply(ast.literal_eval)\n",
      "/tmp/ipykernel_6273/49747245.py:10: SettingWithCopyWarning: \n",
      "A value is trying to be set on a copy of a slice from a DataFrame.\n",
      "Try using .loc[row_indexer,col_indexer] = value instead\n",
      "\n",
      "See the caveats in the documentation: https://pandas.pydata.org/pandas-docs/stable/user_guide/indexing.html#returning-a-view-versus-a-copy\n",
      "  df_f['prod_companies'] = df_f['prod_companies'].apply(ast.literal_eval)\n"
     ]
    },
    {
     "data": {
      "text/plain": [
       "Index(['adult', 'budget', 'id', 'imdb_id', 'original_language',\n",
       "       'original_title', 'overview', 'popularity', 'release_date', 'revenue',\n",
       "       'runtime', 'tagline', 'title', 'vote_average', 'vote_count',\n",
       "       'directors', 'collection_name', 'genres_list', 'countries_prod',\n",
       "       'languages_list', 'prod_companies', 'Award_mains', 'Mains_cat',\n",
       "       'Award_fest', 'Fest_cat'],\n",
       "      dtype='object')"
      ]
     },
     "execution_count": 19,
     "metadata": {},
     "output_type": "execute_result"
    }
   ],
   "source": [
    "# Supposons que vous avez un DataFrame appelé df avec les colonnes appropriées\n",
    "# Remplacez les données fictives par vos données réelles\n",
    "df1 = fonction_charge('../cleaning_data/Final_database.csv')\n",
    "df1.columns"
   ]
  },
  {
   "cell_type": "code",
   "execution_count": 27,
   "id": "3f13dff4-8c92-46df-8fab-79f4691f5fac",
   "metadata": {},
   "outputs": [
    {
     "name": "stdout",
     "output_type": "stream",
     "text": [
      "[[11.63068     0.9300464   4.506227   ...  2.1277496   1.9341846\n",
      "   6.5192356 ]\n",
      " [ 0.9300464  17.43080476  7.10596196 ...  1.32727604  1.93353401\n",
      "   7.71935193]\n",
      " [ 4.506227    7.10596196 42.98639468 ...  6.10387119  5.30907582\n",
      "  16.09704909]\n",
      " ...\n",
      " [ 2.1277496   1.32727604  6.10387119 ... 16.22490022  2.93117561\n",
      "   8.11663475]\n",
      " [ 1.9341846   1.93353401  5.30907582 ...  2.93117561 11.23778319\n",
      "   4.52243328]\n",
      " [ 6.5192356   7.71935193 16.09704909 ...  8.11663475  4.52243328\n",
      "  44.00914067]]\n",
      "Les 3 films les plus proches de The Mummy Resurrection :\n",
      "Recommandation 1: Jack Reacher\n",
      "Recommandation 2: Home on the Range\n",
      "Recommandation 3: The Key Game\n",
      "[[11.63068     0.9300464   4.506227   ...  2.1277496   1.9341846\n",
      "   6.5192356 ]\n",
      " [ 0.9300464  17.43080476  7.10596196 ...  1.32727604  1.93353401\n",
      "   7.71935193]\n",
      " [ 4.506227    7.10596196 42.98639468 ...  6.10387119  5.30907582\n",
      "  16.09704909]\n",
      " ...\n",
      " [ 2.1277496   1.32727604  6.10387119 ... 16.22490022  2.93117561\n",
      "   8.11663475]\n",
      " [ 1.9341846   1.93353401  5.30907582 ...  2.93117561 11.23778319\n",
      "   4.52243328]\n",
      " [ 6.5192356   7.71935193 16.09704909 ...  8.11663475  4.52243328\n",
      "  44.00914067]]\n",
      "Les 3 films les plus proches de Unstoppable :\n",
      "Recommandation 1: Jack Reacher\n",
      "Recommandation 2: Home on the Range\n"
     ]
    },
    {
     "ename": "KeyError",
     "evalue": "4230",
     "output_type": "error",
     "traceback": [
      "\u001b[0;31m---------------------------------------------------------------------------\u001b[0m",
      "\u001b[0;31mKeyError\u001b[0m                                  Traceback (most recent call last)",
      "File \u001b[0;32m/opt/mamba/lib/python3.10/site-packages/pandas/core/indexes/base.py:3791\u001b[0m, in \u001b[0;36mIndex.get_loc\u001b[0;34m(self, key)\u001b[0m\n\u001b[1;32m   3790\u001b[0m \u001b[38;5;28;01mtry\u001b[39;00m:\n\u001b[0;32m-> 3791\u001b[0m     \u001b[38;5;28;01mreturn\u001b[39;00m \u001b[38;5;28;43mself\u001b[39;49m\u001b[38;5;241;43m.\u001b[39;49m\u001b[43m_engine\u001b[49m\u001b[38;5;241;43m.\u001b[39;49m\u001b[43mget_loc\u001b[49m\u001b[43m(\u001b[49m\u001b[43mcasted_key\u001b[49m\u001b[43m)\u001b[49m\n\u001b[1;32m   3792\u001b[0m \u001b[38;5;28;01mexcept\u001b[39;00m \u001b[38;5;167;01mKeyError\u001b[39;00m \u001b[38;5;28;01mas\u001b[39;00m err:\n",
      "File \u001b[0;32mindex.pyx:152\u001b[0m, in \u001b[0;36mpandas._libs.index.IndexEngine.get_loc\u001b[0;34m()\u001b[0m\n",
      "File \u001b[0;32mindex.pyx:181\u001b[0m, in \u001b[0;36mpandas._libs.index.IndexEngine.get_loc\u001b[0;34m()\u001b[0m\n",
      "File \u001b[0;32mpandas/_libs/hashtable_class_helper.pxi:2606\u001b[0m, in \u001b[0;36mpandas._libs.hashtable.Int64HashTable.get_item\u001b[0;34m()\u001b[0m\n",
      "File \u001b[0;32mpandas/_libs/hashtable_class_helper.pxi:2630\u001b[0m, in \u001b[0;36mpandas._libs.hashtable.Int64HashTable.get_item\u001b[0;34m()\u001b[0m\n",
      "\u001b[0;31mKeyError\u001b[0m: 4230",
      "\nThe above exception was the direct cause of the following exception:\n",
      "\u001b[0;31mKeyError\u001b[0m                                  Traceback (most recent call last)",
      "Cell \u001b[0;32mIn[27], line 53\u001b[0m\n\u001b[1;32m     51\u001b[0m     \u001b[38;5;28;01mfor\u001b[39;00m i, film_index \u001b[38;5;129;01min\u001b[39;00m \u001b[38;5;28menumerate\u001b[39m(films_recommandes[:\u001b[38;5;241m3\u001b[39m]):\n\u001b[1;32m     52\u001b[0m         \u001b[38;5;28;01mif\u001b[39;00m film_index \u001b[38;5;241m!=\u001b[39m film_reference:\n\u001b[0;32m---> 53\u001b[0m             \u001b[38;5;28mprint\u001b[39m(\u001b[38;5;124mf\u001b[39m\u001b[38;5;124m\"\u001b[39m\u001b[38;5;124mRecommandation \u001b[39m\u001b[38;5;132;01m{\u001b[39;00mi\u001b[38;5;250m \u001b[39m\u001b[38;5;241m+\u001b[39m\u001b[38;5;250m \u001b[39m\u001b[38;5;241m1\u001b[39m\u001b[38;5;132;01m}\u001b[39;00m\u001b[38;5;124m: \u001b[39m\u001b[38;5;132;01m{\u001b[39;00m\u001b[43mdf1\u001b[49m\u001b[43m[\u001b[49m\u001b[38;5;124;43m'\u001b[39;49m\u001b[38;5;124;43mtitle\u001b[39;49m\u001b[38;5;124;43m'\u001b[39;49m\u001b[43m]\u001b[49m\u001b[43m[\u001b[49m\u001b[43mfilm_index\u001b[49m\u001b[43m]\u001b[49m\u001b[38;5;132;01m}\u001b[39;00m\u001b[38;5;124m\"\u001b[39m)\n\u001b[1;32m     54\u001b[0m \u001b[38;5;28;01melse\u001b[39;00m:\n\u001b[1;32m     55\u001b[0m     \u001b[38;5;28mprint\u001b[39m(\u001b[38;5;124mf\u001b[39m\u001b[38;5;124m\"\u001b[39m\u001b[38;5;124mFilm de référence \u001b[39m\u001b[38;5;132;01m{\u001b[39;00mfilm_reference\u001b[38;5;132;01m}\u001b[39;00m\u001b[38;5;124m hors des limites de l\u001b[39m\u001b[38;5;124m'\u001b[39m\u001b[38;5;124mensemble de données.\u001b[39m\u001b[38;5;124m\"\u001b[39m)\n",
      "File \u001b[0;32m/opt/mamba/lib/python3.10/site-packages/pandas/core/series.py:1040\u001b[0m, in \u001b[0;36mSeries.__getitem__\u001b[0;34m(self, key)\u001b[0m\n\u001b[1;32m   1037\u001b[0m     \u001b[38;5;28;01mreturn\u001b[39;00m \u001b[38;5;28mself\u001b[39m\u001b[38;5;241m.\u001b[39m_values[key]\n\u001b[1;32m   1039\u001b[0m \u001b[38;5;28;01melif\u001b[39;00m key_is_scalar:\n\u001b[0;32m-> 1040\u001b[0m     \u001b[38;5;28;01mreturn\u001b[39;00m \u001b[38;5;28;43mself\u001b[39;49m\u001b[38;5;241;43m.\u001b[39;49m\u001b[43m_get_value\u001b[49m\u001b[43m(\u001b[49m\u001b[43mkey\u001b[49m\u001b[43m)\u001b[49m\n\u001b[1;32m   1042\u001b[0m \u001b[38;5;66;03m# Convert generator to list before going through hashable part\u001b[39;00m\n\u001b[1;32m   1043\u001b[0m \u001b[38;5;66;03m# (We will iterate through the generator there to check for slices)\u001b[39;00m\n\u001b[1;32m   1044\u001b[0m \u001b[38;5;28;01mif\u001b[39;00m is_iterator(key):\n",
      "File \u001b[0;32m/opt/mamba/lib/python3.10/site-packages/pandas/core/series.py:1156\u001b[0m, in \u001b[0;36mSeries._get_value\u001b[0;34m(self, label, takeable)\u001b[0m\n\u001b[1;32m   1153\u001b[0m     \u001b[38;5;28;01mreturn\u001b[39;00m \u001b[38;5;28mself\u001b[39m\u001b[38;5;241m.\u001b[39m_values[label]\n\u001b[1;32m   1155\u001b[0m \u001b[38;5;66;03m# Similar to Index.get_value, but we do not fall back to positional\u001b[39;00m\n\u001b[0;32m-> 1156\u001b[0m loc \u001b[38;5;241m=\u001b[39m \u001b[38;5;28;43mself\u001b[39;49m\u001b[38;5;241;43m.\u001b[39;49m\u001b[43mindex\u001b[49m\u001b[38;5;241;43m.\u001b[39;49m\u001b[43mget_loc\u001b[49m\u001b[43m(\u001b[49m\u001b[43mlabel\u001b[49m\u001b[43m)\u001b[49m\n\u001b[1;32m   1158\u001b[0m \u001b[38;5;28;01mif\u001b[39;00m is_integer(loc):\n\u001b[1;32m   1159\u001b[0m     \u001b[38;5;28;01mreturn\u001b[39;00m \u001b[38;5;28mself\u001b[39m\u001b[38;5;241m.\u001b[39m_values[loc]\n",
      "File \u001b[0;32m/opt/mamba/lib/python3.10/site-packages/pandas/core/indexes/base.py:3798\u001b[0m, in \u001b[0;36mIndex.get_loc\u001b[0;34m(self, key)\u001b[0m\n\u001b[1;32m   3793\u001b[0m     \u001b[38;5;28;01mif\u001b[39;00m \u001b[38;5;28misinstance\u001b[39m(casted_key, \u001b[38;5;28mslice\u001b[39m) \u001b[38;5;129;01mor\u001b[39;00m (\n\u001b[1;32m   3794\u001b[0m         \u001b[38;5;28misinstance\u001b[39m(casted_key, abc\u001b[38;5;241m.\u001b[39mIterable)\n\u001b[1;32m   3795\u001b[0m         \u001b[38;5;129;01mand\u001b[39;00m \u001b[38;5;28many\u001b[39m(\u001b[38;5;28misinstance\u001b[39m(x, \u001b[38;5;28mslice\u001b[39m) \u001b[38;5;28;01mfor\u001b[39;00m x \u001b[38;5;129;01min\u001b[39;00m casted_key)\n\u001b[1;32m   3796\u001b[0m     ):\n\u001b[1;32m   3797\u001b[0m         \u001b[38;5;28;01mraise\u001b[39;00m InvalidIndexError(key)\n\u001b[0;32m-> 3798\u001b[0m     \u001b[38;5;28;01mraise\u001b[39;00m \u001b[38;5;167;01mKeyError\u001b[39;00m(key) \u001b[38;5;28;01mfrom\u001b[39;00m \u001b[38;5;21;01merr\u001b[39;00m\n\u001b[1;32m   3799\u001b[0m \u001b[38;5;28;01mexcept\u001b[39;00m \u001b[38;5;167;01mTypeError\u001b[39;00m:\n\u001b[1;32m   3800\u001b[0m     \u001b[38;5;66;03m# If we have a listlike key, _check_indexing_error will raise\u001b[39;00m\n\u001b[1;32m   3801\u001b[0m     \u001b[38;5;66;03m#  InvalidIndexError. Otherwise we fall through and re-raise\u001b[39;00m\n\u001b[1;32m   3802\u001b[0m     \u001b[38;5;66;03m#  the TypeError.\u001b[39;00m\n\u001b[1;32m   3803\u001b[0m     \u001b[38;5;28mself\u001b[39m\u001b[38;5;241m.\u001b[39m_check_indexing_error(key)\n",
      "\u001b[0;31mKeyError\u001b[0m: 4230"
     ]
    }
   ],
   "source": [
    "\n",
    "# Séparation des données en ensembles d'entraînement et de test\n",
    "train_df, test_df = train_test_split(df1, test_size=0.2, random_state=42)\n",
    "\n",
    "# Entraînement sur l'ensemble d'entraînement\n",
    "# (placez cette partie dans une boucle si vous voulez essayer différentes configurations de modèles)\n",
    "for film_reference in train_df.index:\n",
    "    # Extraction des informations\n",
    "    realisateurs = train_df[\"directors\"]\n",
    "    genres = train_df[\"genres_list\"].apply(lambda x: \" \".join(x))\n",
    "    notes = train_df[\"vote_average\"]\n",
    "    overviews = train_df[\"overview\"]\n",
    "    budgets = train_df[\"budget\"]\n",
    "    realisateurs = realisateurs.fillna('')\n",
    "    overviews = overviews.fillna('')\n",
    "    # Normalisation des notes et des budgets\n",
    "    scaler = MinMaxScaler()\n",
    "    notes_normalisees = scaler.fit_transform(np.array(notes).reshape(-1, 1))\n",
    "    budgets_normalises = scaler.fit_transform(np.array(budgets).reshape(-1, 1))\n",
    "    realisateurs_vectorises = CountVectorizer().fit_transform(realisateurs)\n",
    "    genres_vectorises = CountVectorizer().fit_transform(genres)\n",
    "    overviews_vectorises = CountVectorizer().fit_transform(overviews)\n",
    " \n",
    "    # Calcul des similarités entre les films en fonction des différentes caractéristiques\n",
    "    similarity_realisateurs = realisateurs_vectorises.dot(realisateurs_vectorises.T).toarray()\n",
    "    similarity_genres = genres_vectorises.dot(genres_vectorises.T).toarray()\n",
    "    similarity_overviews = overviews_vectorises.dot(overviews_vectorises.T).toarray()\n",
    "    similarity_notes = np.dot(notes_normalisees, notes_normalisees.T)\n",
    "    similarity_budgets = np.dot(budgets_normalises, budgets_normalises.T)\n",
    "    \n",
    "    # Combinaison des similarités avec des poids - pour l'instant arbitraires\n",
    "    weight_realisateurs = 0.2\n",
    "    weight_genres = 0.2\n",
    "    weight_overviews = 0.2\n",
    "    weight_notes = 0.2\n",
    "    weight_budgets = 0.2\n",
    "\n",
    "    similarity_totale = (\n",
    "        weight_realisateurs * similarity_realisateurs +\n",
    "        weight_genres * similarity_genres +\n",
    "        weight_overviews * similarity_overviews +\n",
    "        weight_notes * similarity_notes +\n",
    "        weight_budgets * similarity_budgets\n",
    "    )\n",
    "    print(similarity_totale)\n",
    "    # Recommandation pour le film de référence\n",
    "    if film_reference < len(similarity_totale):\n",
    "        films_recommandes = np.argsort(similarity_totale[film_reference])[::-1]\n",
    "\n",
    "        # Affichage des 5 films les plus proches\n",
    "        print(f\"Les 3 films les plus proches de {df1['title'][film_reference]} :\")\n",
    "        for i, film_index in enumerate(films_recommandes[:3]):\n",
    "            if film_index != film_reference:\n",
    "                print(f\"Recommandation {i + 1}: {df1['title'][film_index]}\")\n",
    "    else:\n",
    "        print(f\"Film de référence {film_reference} hors des limites de l'ensemble de données.\")"
   ]
  },
  {
   "cell_type": "code",
   "execution_count": null,
   "id": "c9bc6496-a5b7-490f-81eb-b9c49e0deb33",
   "metadata": {},
   "outputs": [],
   "source": []
  }
 ],
 "metadata": {
  "kernelspec": {
   "display_name": "Python 3 (ipykernel)",
   "language": "python",
   "name": "python3"
  },
  "language_info": {
   "codemirror_mode": {
    "name": "ipython",
    "version": 3
   },
   "file_extension": ".py",
   "mimetype": "text/x-python",
   "name": "python",
   "nbconvert_exporter": "python",
   "pygments_lexer": "ipython3",
   "version": "3.10.13"
  }
 },
 "nbformat": 4,
 "nbformat_minor": 5
}
